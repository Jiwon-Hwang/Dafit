{
 "cells": [
  {
   "cell_type": "markdown",
   "metadata": {},
   "source": [
    "# [DF905_01]"
   ]
  },
  {
   "cell_type": "markdown",
   "metadata": {},
   "source": [
    "## 1. Telephone Number"
   ]
  },
  {
   "cell_type": "markdown",
   "metadata": {},
   "source": [
    "대한민국 전화번호 체계에 따라 아래 규칙에 해당하는 전화번호를 모두 REPLACEPHONE으로 치환하세요.  \n",
    "\n",
    "시내전화 : (N)XXX-XXXX (7 또는 8자리)  \n",
    "서울 : 02-(N)XXX-XXXX (9 또는 10자리)  \n",
    "기타 지역 : 0NX-(N)XXX-XXXX (10 또는 11자리)  \n",
    "\n",
    "단, N=3~9, X=0~9  "
   ]
  },
  {
   "cell_type": "markdown",
   "metadata": {},
   "source": [
    "### Example\n",
    "\n",
    "210-7979  \n",
    "02-210-2929  \n",
    "02 290-2100 (바뀌지 않아야 합니다.)  \n",
    "031-210-2929  \n",
    "031-2210-2929 (바뀌지 않아야 합니다.)  \n",
    "021-310-2929 (바뀌지 않아야 합니다.)  \n",
    "210-999 (바뀌지 않아야 합니다.)  \n",
    "2109-999 (바뀌지 않아야 합니다.)  \n",
    "030-3333-3333  \n",
    "이 외의 추가적인 테스트 케이스를 추가하셔도 좋습니다.  "
   ]
  },
  {
   "cell_type": "markdown",
   "metadata": {},
   "source": [
    ">정규표현식으로 다양한 규칙을 표현할 수 있다."
   ]
  },
  {
   "cell_type": "code",
   "execution_count": null,
   "metadata": {},
   "outputs": [],
   "source": []
  },
  {
   "cell_type": "markdown",
   "metadata": {},
   "source": [
    "<hr>"
   ]
  },
  {
   "cell_type": "markdown",
   "metadata": {},
   "source": [
    "### <  >"
   ]
  }
 ],
 "metadata": {
  "kernelspec": {
   "display_name": "Python 3",
   "language": "python",
   "name": "python3"
  },
  "language_info": {
   "codemirror_mode": {
    "name": "ipython",
    "version": 3
   },
   "file_extension": ".py",
   "mimetype": "text/x-python",
   "name": "python",
   "nbconvert_exporter": "python",
   "pygments_lexer": "ipython3",
   "version": "3.7.3"
  }
 },
 "nbformat": 4,
 "nbformat_minor": 2
}
