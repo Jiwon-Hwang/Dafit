{
 "cells": [
  {
   "cell_type": "markdown",
   "metadata": {},
   "source": [
    "# [DF907_01]"
   ]
  },
  {
   "cell_type": "markdown",
   "metadata": {},
   "source": [
    "## 1. 영상 읽기, 출력 저장"
   ]
  },
  {
   "cell_type": "markdown",
   "metadata": {},
   "source": [
    "조건에 맞게 영상을 읽어와서, 출력하고, 저장하시오.  \n",
    "  \n",
    "(1) 3 Channel 로 이미지 읽기.    \n",
    "(2) 1 Channel 로 이미지 읽기.    \n",
    "(3) Waitkey 를 이용하여 렌더링 수행.  \n",
    "(4) JPG 형식으로 출력.  \n",
    "(5) Png 형식으로 출력.  \n",
    "(6) Bmp 형식으로 출력.  "
   ]
  },
  {
   "cell_type": "markdown",
   "metadata": {},
   "source": [
    ">OpenCV python에서 영상을 어떻게 읽고, 출력, 저장할 수 있는지 알아보자."
   ]
  },
  {
   "cell_type": "code",
   "execution_count": null,
   "metadata": {},
   "outputs": [],
   "source": []
  },
  {
   "cell_type": "markdown",
   "metadata": {},
   "source": [
    "### < 문자열 함수들 정리 >\n",
    "### 1. 대, 소문자 변환\n",
    "* s.upper() : 대문자로 변환\n",
    "* s.lower() : 소문자로 변환\n",
    "* s.swapcase() : 대문자는 소문자로, 소문자는 대문자로\n",
    "* s.capitalize() : 첫문자를 대문자로\n",
    "* s.title() : 단어의 첫 문자를 대문자로 (space 다음)\n",
    "\n",
    "### 2. 치환\n",
    "* s.replace('지원', '바보 지원', count) : '지원'을 '바보 지원'으로 바꿈. 단, count 횟수 만큼만!\n",
    "\n",
    "### 3. 분리, 결합\n",
    "* s.split() : 공백 기준으로 분리\n",
    "    * cf. split() 함수는, space 몇개든 다 무시하고 배열에 각각 담아줌 (sting으로)\n",
    "* s.split('and') : 'and' 기준으로 분리\n",
    "    * '안녕하세요, 저는, 지원입니다'.split(',') => ['안녕하세요', ' 저는', ' 지원입니다']\n",
    "    * '지금은 글을 쓰고안녕있습니다.'.split('안녕') => ['지금은 글을 쓰고', 있습니다.']\n",
    "* '+'.join(s) : '+' 문자로 결합  \n",
    "    * s=\"지원이바보\" print('+'.join(s)) => '지+원+이+바+보'\n",
    "\n",
    "  \n",
    "### cf. 검색, 공백제거, 정렬, 구성요소판별, 문자채우기 등도 가능!"
   ]
  }
 ],
 "metadata": {
  "kernelspec": {
   "display_name": "Python 3",
   "language": "python",
   "name": "python3"
  },
  "language_info": {
   "codemirror_mode": {
    "name": "ipython",
    "version": 3
   },
   "file_extension": ".py",
   "mimetype": "text/x-python",
   "name": "python",
   "nbconvert_exporter": "python",
   "pygments_lexer": "ipython3",
   "version": "3.7.3"
  }
 },
 "nbformat": 4,
 "nbformat_minor": 2
}
