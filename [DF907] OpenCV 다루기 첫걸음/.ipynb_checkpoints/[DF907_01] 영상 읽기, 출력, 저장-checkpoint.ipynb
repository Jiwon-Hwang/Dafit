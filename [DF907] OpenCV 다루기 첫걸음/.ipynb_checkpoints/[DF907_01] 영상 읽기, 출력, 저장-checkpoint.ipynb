{
 "cells": [
  {
   "cell_type": "markdown",
   "metadata": {},
   "source": [
    "# [DF907_01]"
   ]
  },
  {
   "cell_type": "markdown",
   "metadata": {},
   "source": [
    "## 1. 영상 읽기, 출력 저장"
   ]
  },
  {
   "cell_type": "markdown",
   "metadata": {},
   "source": [
    "조건에 맞게 영상을 읽어와서, 출력하고, 저장하시오.  \n",
    "  \n",
    "(1) 3 Channel 로 이미지 읽기.    \n",
    "(2) 1 Channel 로 이미지 읽기.    \n",
    "(3) Waitkey 를 이용하여 렌더링 수행.  \n",
    "(4) JPG 형식으로 출력.  \n",
    "(5) Png 형식으로 출력.  \n",
    "(6) Bmp 형식으로 출력.  "
   ]
  },
  {
   "cell_type": "markdown",
   "metadata": {},
   "source": [
    ">OpenCV python에서 영상을 어떻게 읽고, 출력, 저장할 수 있는지 알아보자."
   ]
  },
  {
   "cell_type": "markdown",
   "metadata": {},
   "source": [
    "#### (1) 3 Channel로 이미지 읽기"
   ]
  },
  {
   "cell_type": "code",
   "execution_count": 1,
   "metadata": {},
   "outputs": [],
   "source": [
    "import cv2\n",
    "\n",
    "img = cv2.imread('DF907_01_01.jpg', cv2.IMREAD_COLOR) #cv2.imread(경로, mode)\n",
    "#img = cv2.imread('DF907_01_01.jpg', 1) => mode가 1이면 color, 0이면 gray"
   ]
  },
  {
   "cell_type": "markdown",
   "metadata": {},
   "source": [
    "#### (2) 1 Channel로 이미지 읽기"
   ]
  },
  {
   "cell_type": "code",
   "execution_count": 2,
   "metadata": {},
   "outputs": [],
   "source": [
    "img = cv2.imread('DF907_01_01.jpg', cv2.IMREAD_GRAYSCALE)\n",
    "#img = cv2.imread('DF907_01_01.jpg', 0) => mode가 1이면 color, 0이면 gray"
   ]
  },
  {
   "cell_type": "markdown",
   "metadata": {},
   "source": [
    "#### (3) Waitkey를 이용하여 렌더링 수행 (cf. waitKey에서 K는 대문자다!)"
   ]
  },
  {
   "cell_type": "code",
   "execution_count": 5,
   "metadata": {
    "scrolled": false
   },
   "outputs": [
    {
     "data": {
      "text/plain": [
       "-1"
      ]
     },
     "execution_count": 5,
     "metadata": {},
     "output_type": "execute_result"
    }
   ],
   "source": [
    "cv2.imshow('image rendering', img)\n",
    "cv2.waitKey(0) # 0초마다 지속적으로 키 입력상태 받아옴. 불러온 이미지 바로 꺼지지 않도록."
   ]
  },
  {
   "cell_type": "markdown",
   "metadata": {},
   "source": [
    "#### (4) JPG 형식으로 출력."
   ]
  },
  {
   "cell_type": "code",
   "execution_count": 6,
   "metadata": {
    "scrolled": false
   },
   "outputs": [
    {
     "data": {
      "text/plain": [
       "True"
      ]
     },
     "execution_count": 6,
     "metadata": {},
     "output_type": "execute_result"
    }
   ],
   "source": [
    "cv2.imwrite('JPG lena.jpg', img)"
   ]
  },
  {
   "cell_type": "markdown",
   "metadata": {},
   "source": [
    "#### (5) PNG 형식으로 출력."
   ]
  },
  {
   "cell_type": "code",
   "execution_count": 7,
   "metadata": {
    "scrolled": true
   },
   "outputs": [
    {
     "data": {
      "text/plain": [
       "True"
      ]
     },
     "execution_count": 7,
     "metadata": {},
     "output_type": "execute_result"
    }
   ],
   "source": [
    "cv2.imwrite('PNG lena.png', img)"
   ]
  },
  {
   "cell_type": "markdown",
   "metadata": {},
   "source": [
    "#### (6) BMP 형식으로 출력."
   ]
  },
  {
   "cell_type": "code",
   "execution_count": 8,
   "metadata": {
    "scrolled": false
   },
   "outputs": [
    {
     "data": {
      "text/plain": [
       "True"
      ]
     },
     "execution_count": 8,
     "metadata": {},
     "output_type": "execute_result"
    }
   ],
   "source": [
    "cv2.imwrite('BMP lena.bmp', img)"
   ]
  },
  {
   "cell_type": "markdown",
   "metadata": {},
   "source": [
    "## [ OpenCV란 ]\n",
    "OpenCV(Open Sourece Computer Vision)는 실시간 컴퓨터 비전을 목적으로 한 프로그래밍 라이브러리이다. 인텔에서 개발을 시작하였으며, 실시간 이미지 처리 중점을 둔 라이브러리이다.\n",
    "\n",
    "### < cv2.imread(\"경로\", mode) : 이미지 불러오기(읽기) >\n",
    "**image = cv2.imread(\"경로\", mode)** : 이미지를 모드에 맞춰 불러와서 변수에 저장  \n",
    "cf. **mode (이미지를 불러올 때 적용할 초기 상태)**\n",
    "   * cv2.IMREAD_UNCHANGED : 원본 사용\n",
    "   * cv2.IMREAD_GRAYSCALE : 1 채널, gray-scale 적용\n",
    "   * cv2.IMREAD_COLOR : 3 채널, **BGR** 이미지 사용\n",
    "> 근데 cv2.imread(\"경로\", 1) : 1이면 color, 0이면 gray임ㅋ\n",
    "\n",
    "### < cv2.waitKey(time) : 키보드 눌림 대기>\n",
    "키보드 대기상태로 해놓지 않으면 **불러온 이미지가 떳다가 바로 꺼지기 때문에** 꼭 넣어줘야한다.  \n",
    "**cv2.waitKey(time)** : time마다 키 입력상태를 받아옴. 0일 경우, 지속적으로 검사하여 해당 구문을 넘어가지 않음. (꺼지지 않음)\n",
    "\n",
    "### < cv2.imshow(\"윈도우 창 제목\", img) : 이미지 렌더링 >\n",
    "윈도우 창에 이미지를 띄우기.\n",
    "\n",
    "### < cv2.imwrite('저장할 이름', img) : 이미지 저장하기(출력) >\n",
    "저장할 이름 부분에 **'~.png'** 이런식으로 저장하면, **png형식으로 출력(저장)** 가능"
   ]
  }
 ],
 "metadata": {
  "kernelspec": {
   "display_name": "Python 3",
   "language": "python",
   "name": "python3"
  },
  "language_info": {
   "codemirror_mode": {
    "name": "ipython",
    "version": 3
   },
   "file_extension": ".py",
   "mimetype": "text/x-python",
   "name": "python",
   "nbconvert_exporter": "python",
   "pygments_lexer": "ipython3",
   "version": "3.7.3"
  }
 },
 "nbformat": 4,
 "nbformat_minor": 2
}
