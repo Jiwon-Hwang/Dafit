{
 "cells": [
  {
   "cell_type": "markdown",
   "metadata": {},
   "source": [
    "# [DF907_03]"
   ]
  },
  {
   "cell_type": "markdown",
   "metadata": {},
   "source": [
    "## 3. 영상 이동 (Translation)"
   ]
  },
  {
   "cell_type": "markdown",
   "metadata": {},
   "source": [
    "영상 이동에 적용할 translation matrix를 만들어 영상 이동한 이미지를 저장해보자."
   ]
  },
  {
   "cell_type": "markdown",
   "metadata": {},
   "source": [
    ">영상의 기하학적 변형의 한 종류인 영상 이동을 하는 방법에 대해 알아보자."
   ]
  },
  {
   "cell_type": "markdown",
   "metadata": {},
   "source": [
    "힌트 : cv2.warpAffine() 함수를 확인"
   ]
  },
  {
   "cell_type": "code",
   "execution_count": 8,
   "metadata": {},
   "outputs": [
    {
     "ename": "TypeError",
     "evalue": "function takes at most 1 argument (2 given)",
     "output_type": "error",
     "traceback": [
      "\u001b[1;31m---------------------------------------------------------------------------\u001b[0m",
      "\u001b[1;31mTypeError\u001b[0m                                 Traceback (most recent call last)",
      "\u001b[1;32m<ipython-input-8-f9951c9cbe9e>\u001b[0m in \u001b[0;36m<module>\u001b[1;34m\u001b[0m\n\u001b[0;32m      3\u001b[0m \u001b[1;33m\u001b[0m\u001b[0m\n\u001b[0;32m      4\u001b[0m \u001b[0mimg\u001b[0m \u001b[1;33m=\u001b[0m \u001b[0mcv2\u001b[0m\u001b[1;33m.\u001b[0m\u001b[0mimread\u001b[0m\u001b[1;33m(\u001b[0m\u001b[1;34m'DF907_01_01.jpg'\u001b[0m\u001b[1;33m)\u001b[0m \u001b[1;31m# mode : 1(color) 제거\u001b[0m\u001b[1;33m\u001b[0m\u001b[1;33m\u001b[0m\u001b[0m\n\u001b[1;32m----> 5\u001b[1;33m \u001b[0mM\u001b[0m \u001b[1;33m=\u001b[0m \u001b[0mnp\u001b[0m\u001b[1;33m.\u001b[0m\u001b[0mfloat32\u001b[0m\u001b[1;33m(\u001b[0m\u001b[1;33m[\u001b[0m\u001b[1;36m1\u001b[0m\u001b[1;33m,\u001b[0m \u001b[1;36m0\u001b[0m\u001b[1;33m,\u001b[0m \u001b[1;36m100\u001b[0m\u001b[1;33m]\u001b[0m\u001b[1;33m,\u001b[0m\u001b[1;33m[\u001b[0m\u001b[1;36m0\u001b[0m\u001b[1;33m,\u001b[0m \u001b[1;36m1\u001b[0m\u001b[1;33m,\u001b[0m \u001b[1;36m20\u001b[0m\u001b[1;33m]\u001b[0m\u001b[1;33m)\u001b[0m \u001b[1;31m# x축으로 100, y축으로 20만큼 이동\u001b[0m\u001b[1;33m\u001b[0m\u001b[1;33m\u001b[0m\u001b[0m\n\u001b[0m\u001b[0;32m      6\u001b[0m \u001b[0mrow\u001b[0m\u001b[1;33m,\u001b[0m \u001b[0mcol\u001b[0m \u001b[1;33m=\u001b[0m \u001b[0mimg\u001b[0m\u001b[1;33m[\u001b[0m\u001b[1;33m:\u001b[0m\u001b[1;36m2\u001b[0m\u001b[1;33m]\u001b[0m \u001b[1;31m# row, col = 행, 열 = h, w = y, x\u001b[0m\u001b[1;33m\u001b[0m\u001b[1;33m\u001b[0m\u001b[0m\n\u001b[0;32m      7\u001b[0m \u001b[1;33m\u001b[0m\u001b[0m\n",
      "\u001b[1;31mTypeError\u001b[0m: function takes at most 1 argument (2 given)"
     ]
    }
   ],
   "source": [
    "import cv2\n",
    "import numpy as np\n",
    "\n",
    "img = cv2.imread('DF907_01_01.jpg') # mode : 1(color) 제거\n",
    "M = np.float32([[1, 0, 100],[0, 1, 20]]) # x축으로 100, y축으로 20만큼 이동\n",
    "row, col = img[:2] # row, col = 행, 열 = h, w = y, x\n",
    "\n",
    "img_T = cv2.warpAffine(img, M, (col, row)) # cv2.warpAffine(src, 변환행렬 output 크기(x, y 순))\n",
    "\n",
    "cv2.imshow('translation', img_T)\n",
    "\n",
    "cv2.waitKey(0)\n",
    "cv2.destroyAllWindows() # 아무 키 누르면 전체 창들 다 닫힘!"
   ]
  },
  {
   "cell_type": "markdown",
   "metadata": {},
   "source": [
    "<img src = 'TranslationMatrix.png' align = 'left'>"
   ]
  },
  {
   "cell_type": "markdown",
   "metadata": {},
   "source": [
    "## [ 컬러공간 변환, 분리, 병합 ]\n",
    "\n",
    "### < cv2.cvtColor(img, cv2.COLOR_BGR2GRAY) : 컬러공간 변환(convert) >\n",
    "* cv2.COLOR_BGR2GRAY : BGR -> GRAY\n",
    "* cv2.COLOR_BGR2YUV : BGR -> YUV\n",
    "* cv2.COLOR_BGR2HSV : BGR -> HSV\n",
    "\n",
    "### < cv2.split(img_yuv) : 각 채널 분리>\n",
    "yuv_y, yuv_u, yuv_v = cv2.split(img_yuv) => 이런식으로 Y,U,V 채널 각각 변수에 담는다.  \n",
    "\n",
    "### < cv2.merge([yuv_y, yuv_u, yuv_v]) : 각 채널 병합 >\n",
    "img_yuv2 = cv2.merge([yuv_y, yuv_u, yuv_v]) => 이런식으로 세 채널을 하나로 병합한다.\n",
    "\n",
    "### cf. cv2.waitKey(0) 와 cv2.destroyAllWindows()\n",
    "* **cv2.waitKey(0)** : 계속 연속적으로 키 확인. 키가 눌리지 않으면 다음 코드로 넘어가지 않음.\n",
    "* **cv2.destroyAllWindows()** : 아무 키 눌리면 모든 창들 다 꺼짐."
   ]
  },
  {
   "cell_type": "markdown",
   "metadata": {},
   "source": [
    "> YUV와 HSV는 plot에 나타내면 색깔 다르게 나타나는 현상에 대해서... (gray는 cmap=\"gray\"으로 해결)  \n",
    "(참고 링크 : https://matplotlib.org/tutorials/introductory/images.html)"
   ]
  }
 ],
 "metadata": {
  "kernelspec": {
   "display_name": "Python 3",
   "language": "python",
   "name": "python3"
  },
  "language_info": {
   "codemirror_mode": {
    "name": "ipython",
    "version": 3
   },
   "file_extension": ".py",
   "mimetype": "text/x-python",
   "name": "python",
   "nbconvert_exporter": "python",
   "pygments_lexer": "ipython3",
   "version": "3.7.3"
  }
 },
 "nbformat": 4,
 "nbformat_minor": 2
}
