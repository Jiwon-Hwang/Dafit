{
 "cells": [
  {
   "cell_type": "markdown",
   "metadata": {},
   "source": [
    "# [DF907_03]"
   ]
  },
  {
   "cell_type": "markdown",
   "metadata": {},
   "source": [
    "## 3. 영상 이동 (Translation)"
   ]
  },
  {
   "cell_type": "markdown",
   "metadata": {},
   "source": [
    "영상 이동에 적용할 translation matrix를 만들어 영상 이동한 이미지를 저장해보자."
   ]
  },
  {
   "cell_type": "markdown",
   "metadata": {},
   "source": [
    ">영상의 기하학적 변형의 한 종류인 영상 이동을 하는 방법에 대해 알아보자."
   ]
  },
  {
   "cell_type": "markdown",
   "metadata": {},
   "source": [
    "힌트 : cv2.warpAffine() 함수를 확인"
   ]
  },
  {
   "cell_type": "code",
   "execution_count": 12,
   "metadata": {},
   "outputs": [
    {
     "name": "stdout",
     "output_type": "stream",
     "text": [
      "(225, 225, 3)\n"
     ]
    }
   ],
   "source": [
    "# 영상 이동\n",
    "import cv2\n",
    "import numpy as np\n",
    "\n",
    "img = cv2.imread('DF907_01_01.jpg') # mode : 1(color) 제거\n",
    "M = np.float32([[1, 0, 100],[0, 1, 20]]) # x축으로 100, y축으로 20만큼 이동\n",
    "\n",
    "row, col = img.shape[:2] # row, col = 행, 열 = h, w = y, x\n",
    "print(img.shape)\n",
    "\n",
    "img_T = cv2.warpAffine(img, M, (col, row)) # cv2.warpAffine(src, 변환행렬 output 크기(x, y 순))\n",
    "\n",
    "cv2.imshow('original', img)\n",
    "cv2.imshow('translation', img_T)\n",
    "\n",
    "cv2.waitKey(0)\n",
    "cv2.destroyAllWindows() # 아무 키 누르면 전체 창들 다 닫힘!"
   ]
  },
  {
   "cell_type": "code",
   "execution_count": null,
   "metadata": {},
   "outputs": [],
   "source": []
  },
  {
   "cell_type": "markdown",
   "metadata": {},
   "source": [
    "<img src = 'TranslationMatrix.png' align = 'left'>"
   ]
  },
  {
   "cell_type": "markdown",
   "metadata": {},
   "source": [
    "## [ 컬러공간 변환, 분리, 병합 ]\n",
    "\n",
    "### < cv2.cvtColor(img, cv2.COLOR_BGR2GRAY) : 컬러공간 변환(convert) >\n",
    "* cv2.COLOR_BGR2GRAY : BGR -> GRAY\n",
    "* cv2.COLOR_BGR2YUV : BGR -> YUV\n",
    "* cv2.COLOR_BGR2HSV : BGR -> HSV\n",
    "\n",
    "### < cv2.split(img_yuv) : 각 채널 분리>\n",
    "yuv_y, yuv_u, yuv_v = cv2.split(img_yuv) => 이런식으로 Y,U,V 채널 각각 변수에 담는다.  \n",
    "\n",
    "### < cv2.merge([yuv_y, yuv_u, yuv_v]) : 각 채널 병합 >\n",
    "img_yuv2 = cv2.merge([yuv_y, yuv_u, yuv_v]) => 이런식으로 세 채널을 하나로 병합한다.\n",
    "\n",
    "### cf. cv2.waitKey(0) 와 cv2.destroyAllWindows()\n",
    "* **cv2.waitKey(0)** : 계속 연속적으로 키 확인. 키가 눌리지 않으면 다음 코드로 넘어가지 않음.\n",
    "* **cv2.destroyAllWindows()** : 아무 키 눌리면 모든 창들 다 꺼짐."
   ]
  },
  {
   "cell_type": "markdown",
   "metadata": {},
   "source": [
    "> YUV와 HSV는 plot에 나타내면 색깔 다르게 나타나는 현상에 대해서... (gray는 cmap=\"gray\"으로 해결)  \n",
    "(참고 링크 : https://matplotlib.org/tutorials/introductory/images.html)"
   ]
  }
 ],
 "metadata": {
  "kernelspec": {
   "display_name": "Python 3",
   "language": "python",
   "name": "python3"
  },
  "language_info": {
   "codemirror_mode": {
    "name": "ipython",
    "version": 3
   },
   "file_extension": ".py",
   "mimetype": "text/x-python",
   "name": "python",
   "nbconvert_exporter": "python",
   "pygments_lexer": "ipython3",
   "version": "3.7.3"
  }
 },
 "nbformat": 4,
 "nbformat_minor": 2
}
