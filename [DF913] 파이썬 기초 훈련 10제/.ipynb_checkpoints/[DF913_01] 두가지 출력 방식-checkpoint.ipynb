{
 "cells": [
  {
   "cell_type": "markdown",
   "metadata": {},
   "source": [
    "# [DF913_01]"
   ]
  },
  {
   "cell_type": "markdown",
   "metadata": {},
   "source": [
    "## 1번. 두가지 출력 방식"
   ]
  },
  {
   "cell_type": "markdown",
   "metadata": {},
   "source": [
    "(1) 서식 지정자 % 를 이용해서 출력"
   ]
  },
  {
   "cell_type": "code",
   "execution_count": 3,
   "metadata": {
    "scrolled": true
   },
   "outputs": [
    {
     "name": "stdout",
     "output_type": "stream",
     "text": [
      "저는 김철수이고 6살입니다.\n"
     ]
    }
   ],
   "source": [
    "Num = 6\n",
    "Name = '김철수'\n",
    "print('저는 %s이고 %d살입니다.'%(Name, Num))"
   ]
  },
  {
   "cell_type": "markdown",
   "metadata": {},
   "source": [
    "(2) 문자열 포맷팅 f 를 이용해서 출력"
   ]
  },
  {
   "cell_type": "code",
   "execution_count": 6,
   "metadata": {},
   "outputs": [
    {
     "name": "stdout",
     "output_type": "stream",
     "text": [
      "저는 김철수이고 6살입니다.\n"
     ]
    }
   ],
   "source": [
    "Num = 6\n",
    "Name = '김철수'\n",
    "print(f'저는 {Name}이고 {Num}살입니다.')\n",
    "\n",
    "# print('저는 {1}이고 {0}살입니다.'.format(Num, Name))  ==> 이렇게 인덱싱하는 방법도 있음!"
   ]
  },
  {
   "cell_type": "markdown",
   "metadata": {},
   "source": [
    "(3) '메소드'의 의미를 서술하세요."
   ]
  },
  {
   "cell_type": "code",
   "execution_count": 7,
   "metadata": {},
   "outputs": [],
   "source": [
    "# 파이썬에서 모든 데이터(string, number)들은 모두 '객체'이고 이 객체에 '함수'를 통해 작업을 진행할 수 있는데, \n",
    "# 이 함수를 '메소드'라고 한다. 또한 클래스 내부에서 정의된 함수도 '메서드'라고 한다."
   ]
  },
  {
   "cell_type": "markdown",
   "metadata": {},
   "source": [
    "(4) 서식 지정자를 통한 출력과 문자열 포매팅을 통한 출력의 공통점과 차이점을 서술하세요."
   ]
  },
  {
   "cell_type": "code",
   "execution_count": null,
   "metadata": {},
   "outputs": [],
   "source": [
    "# 공통점 : 변수를 이용하기 때문에 원하는 위치에 변수 값만 바꿔서 출력이 가능하다.\n",
    "# 차이점 : 서식 지정자 %를 이용하면 %s, %d와 같이 자료형에 맞는 값만 대입해 출력이 가능하지만,\n",
    "#          문자열 포매팅 f를 이용하면 자료형에 상관 없이 변수에 해당하는 값을 넣어서 출력 가능하다. "
   ]
  }
 ],
 "metadata": {
  "kernelspec": {
   "display_name": "Python 3",
   "language": "python",
   "name": "python3"
  },
  "language_info": {
   "codemirror_mode": {
    "name": "ipython",
    "version": 3
   },
   "file_extension": ".py",
   "mimetype": "text/x-python",
   "name": "python",
   "nbconvert_exporter": "python",
   "pygments_lexer": "ipython3",
   "version": "3.7.3"
  }
 },
 "nbformat": 4,
 "nbformat_minor": 2
}
