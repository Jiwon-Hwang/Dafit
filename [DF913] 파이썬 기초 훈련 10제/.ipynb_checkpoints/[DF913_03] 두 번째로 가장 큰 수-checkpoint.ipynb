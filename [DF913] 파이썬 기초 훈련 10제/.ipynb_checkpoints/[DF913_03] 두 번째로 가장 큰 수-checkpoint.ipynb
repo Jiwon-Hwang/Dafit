{
 "cells": [
  {
   "cell_type": "markdown",
   "metadata": {},
   "source": [
    "# [DF913_03]"
   ]
  },
  {
   "cell_type": "markdown",
   "metadata": {},
   "source": [
    "## 3번. 두 번째로 가장 큰 수"
   ]
  },
  {
   "cell_type": "markdown",
   "metadata": {},
   "source": [
    "N개의 원소를 입력으로 받아서 두 번째로 가장 큰 수를 출력하는 코드를 작성하세요.  \n",
    "< Example >  \n",
    "Input : 1 2 5 4 5 3 5  \n",
    "Output : 4"
   ]
  },
  {
   "cell_type": "code",
   "execution_count": 1,
   "metadata": {
    "scrolled": true
   },
   "outputs": [
    {
     "name": "stdout",
     "output_type": "stream",
     "text": [
      "N개의 숫자를 입력하세요 : 1 2 5 4 5 3      5\n",
      "4\n"
     ]
    }
   ],
   "source": [
    "# 정렬하고, 가장 큰 수 찾고, 그 수보다 바로 작은 수 택하기\n",
    "arr = input('N개의 숫자를 입력하세요 : ').split() \n",
    "#print(arr)\n",
    "\n",
    "arr_int = list(map(int, arr)) \n",
    "#print(arr_int)\n",
    "\n",
    "arr_sort = sorted(arr_int)\n",
    "#print(arr_sort)\n",
    "\n",
    "\n",
    "idx = arr_sort.index(max(arr_sort))-1\n",
    "print(arr_sort[idx])"
   ]
  },
  {
   "cell_type": "code",
   "execution_count": 2,
   "metadata": {},
   "outputs": [
    {
     "name": "stdout",
     "output_type": "stream",
     "text": [
      "1 2 5 4 5 3     5 \n",
      "4\n"
     ]
    }
   ],
   "source": [
    "# solution 2\n",
    "def second_num():\n",
    "    return sorted(tuple(set(input().split(' '))))[-2]\n",
    "\n",
    "print(second_num())"
   ]
  },
  {
   "cell_type": "markdown",
   "metadata": {},
   "source": [
    "### < 문자열.split('분리기준') >\n",
    "* split()함수 : 분리할 문자 기준으로 문자열을 쪼개준다.\n",
    "* space 몇개든 다 무시하고 배열에 담아줌(sting으로)\n",
    "    * '안녕하세요, 저는, 지원입니다'.split(',') => ['안녕하세요', ' 저는', ' 지원입니다']\n",
    "    * '지금은 글을 쓰고안녕있습니다.'.split('안녕') => ['지금은 글을 쓰고', 있습니다.']\n",
    "\n",
    "### < list(map(자료형함수, 배열) >\n",
    "* 문자열 배열을 정수형 배열 등으로 바꿔줌\n",
    "\n",
    "### < sorted(배열) >\n",
    "* 정렬 함수\n",
    "* sorted(배열1) 자체가 정렬된 새로운 배열2 return\n",
    "* arr_sorted = sorted(arr) / print(sorted(arr)) 가능\n",
    "\n",
    "### < 배열.sort() >\n",
    "* 정렬 함수\n",
    "* return 값은 None\n",
    "* 배열.sort() 하면 그 배열 자체가 정렬된 상태로 정렬되어있도록 아예 배열 자체값을 바꿔놓음\n",
    "* print(arr.sort()) => None / arr.sort() 후 print(arr)!! 이렇게 하면 arr자체가 바껴있음!! \n",
    "\n",
    "### < max(배열) > \n",
    "* 배열 속 최대값을 반환.(값)\n",
    "\n",
    "### < 배열.index(값) >\n",
    "* 배열 속 특정 값의 인덱스 알려줌 => 주로 max나 min과 같이 쓰임\n",
    "\n",
    "### < set(배열or문자열) >\n",
    "* 집합 자료형으로 바꿔주는 함수\n",
    "* 순서가 없다 (일단 인덱스로 접근 불가)\n",
    "* 중복이 없다 (중복 제거해줌)\n",
    "* 만약 인덱스로 접근하려면, list()나 tuple()로 형변환 해줘야 함\n",
    "* 집합연산 사용 가능\n",
    "    - 교집합 구하기 : & / .intersection()\n",
    "    - 차집합 구하기 : - / .difference()\n",
    "    - 합집합 구하기 : | / .union()\n",
    "* 관련 함수들\n",
    "    - 값 1개 추가하기 : .add(값)\n",
    "    - 값 여러개 추가하기 : .update(배열)\n",
    "    - 특정 값 제거하기 : .remove(값)\n",
    "\n",
    "### < 인덱스 >\n",
    "* [-1] : 맨 마지막\n",
    "* 배열, 튜플 등 모두 가능(인덱스 사용하는 자료형)"
   ]
  },
  {
   "cell_type": "markdown",
   "metadata": {},
   "source": [
    "<hr>"
   ]
  },
  {
   "cell_type": "markdown",
   "metadata": {},
   "source": [
    "## [ 배열 인덱싱 & reverse, reversed ex ]"
   ]
  },
  {
   "cell_type": "code",
   "execution_count": 18,
   "metadata": {},
   "outputs": [
    {
     "name": "stdout",
     "output_type": "stream",
     "text": [
      "< 1. [-1] & pop() >\n",
      "original record : ['jiwon good', 'jiwon sad', 'jiwon happy', 'jimin happy', 'final!']\n",
      "record[-1] : final!\n",
      "record.pop() : final!\n",
      "record : ['jiwon good', 'jiwon sad', 'jiwon happy', 'jimin happy']\n",
      "\n",
      "< 2. for문으로 배열 요소 순서 반대로 접근하기 >\n",
      "jimin happy\n",
      "jiwon happy\n",
      "jiwon sad\n",
      "jiwon good\n",
      "record : ['jiwon good', 'jiwon sad', 'jiwon happy', 'jimin happy']\n",
      "\n",
      "< 3. reversed(record) & record.reverse() >\n",
      "reversed(record) : <list_reverseiterator object at 0x000002445405E978>\n",
      "record.reverse() : None\n",
      "record : ['jimin happy', 'jiwon happy', 'jiwon sad', 'jiwon good']\n"
     ]
    }
   ],
   "source": [
    "record = ['jiwon good', 'jiwon sad', 'jiwon happy', 'jimin happy', 'final!']\n",
    "\n",
    "# [-1] & pop()\n",
    "print('< 1. [-1] & pop() >')\n",
    "print('original record :', record)\n",
    "print('record[-1] :', record[-1])     # [-1]은 베열의 마지막 요소에 접근\n",
    "print('record.pop() :', record.pop()) # 배열.pop() : 배열의 마지막 요소값을 한번 return 후 제거\n",
    "print('record :', record)\n",
    "print()\n",
    "\n",
    "# for문으로 배열 요소 순서 반대로 접근하기 \n",
    "print('< 2. for문으로 배열 요소 순서 반대로 접근하기 >')\n",
    "for i in reversed(record):  #reversed(배열) : 원본을 바꾸진 않고, **일시적으로** 거꾸로 순서 바꿔서 return\n",
    "    print(i)\n",
    "print('record :', record)\n",
    "\n",
    "print()\n",
    "\n",
    "# reversed(배열) & 배열.reverse()\n",
    "print('< 3. reversed(record) & record.reverse() >')\n",
    "print('reversed(record) :', reversed(record))\n",
    "print('record.reverse() :', record.reverse())\n",
    "print('record :', record)"
   ]
  }
 ],
 "metadata": {
  "kernelspec": {
   "display_name": "Python 3",
   "language": "python",
   "name": "python3"
  },
  "language_info": {
   "codemirror_mode": {
    "name": "ipython",
    "version": 3
   },
   "file_extension": ".py",
   "mimetype": "text/x-python",
   "name": "python",
   "nbconvert_exporter": "python",
   "pygments_lexer": "ipython3",
   "version": "3.7.3"
  }
 },
 "nbformat": 4,
 "nbformat_minor": 2
}
