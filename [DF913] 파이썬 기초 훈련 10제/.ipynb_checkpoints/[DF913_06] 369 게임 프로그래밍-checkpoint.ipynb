{
 "cells": [
  {
   "cell_type": "markdown",
   "metadata": {},
   "source": [
    "# [DF913_06]"
   ]
  },
  {
   "cell_type": "markdown",
   "metadata": {},
   "source": [
    "## 6. 369 게임 프로그래밍"
   ]
  },
  {
   "cell_type": "markdown",
   "metadata": {},
   "source": [
    "369 게임의 규칙은 다음과 같다고 한다.  \n",
    "\n",
    "(1) ‘3’,‘6’,‘9’가 포함된 숫자에서 숫자가 아닌 ‘짝’을 출력한다.  \n",
    "(2) ‘3’,‘6’,‘9’의 배수인 숫자에서 숫자가 아닌 ‘짝’을 출력한다.  \n",
    "(3) 규칙을 중복해서 만족하는 숫자의 차례에서는 ‘짝짝’이 아닌 ‘짝’을 출력한다.  \n",
    "(4) 각 숫자의 사이에는 ‘ / ’ 가 존재한다. ( ex. 1 / 2 / 짝 / 4 / ... )  \n",
    "\n",
    "주어진 게임의 규칙을 만족하도록 하여 0부터 30까지의 범위에 대하여 출력하는 코드를 작성하시오. (단, 이 때 코드는 두 가지 버전으로 작성한다.)  \n",
    "\n",
    "(1) Lambda 함수를 사용하지 않고 작성하세요.  \n",
    "(2) Lambda 함수를 사용해서 작성하세요.  "
   ]
  },
  {
   "cell_type": "markdown",
   "metadata": {},
   "source": [
    ">이미 존재하는 규칙 또는 모델을 코드를 작성할 수 있다."
   ]
  },
  {
   "cell_type": "markdown",
   "metadata": {},
   "source": [
    "### (1) Lambda 함수를 사용하지 않고 작성"
   ]
  },
  {
   "cell_type": "code",
   "execution_count": 1,
   "metadata": {},
   "outputs": [
    {
     "name": "stdout",
     "output_type": "stream",
     "text": [
      "1 / 2 / 짝 / 4 / 5 / 짝 / 7 / 8 / 짝 / 10 / 11 / 짝 / 짝 / 14 / 짝 / 짝 / 17 / 짝 / 짝 / 20 / 짝 / 22 / 짝 / 짝 / 25 / 짝 / 짝 / 28 / 짝 / 짝\n"
     ]
    }
   ],
   "source": [
    "# sol1) 3,6,9 다 따로따로 검사\n",
    "game=''\n",
    "for i in range(1,31):\n",
    "    if i % 3 == 0: \n",
    "        game+='짝 / '\n",
    "        continue\n",
    "    elif str(i).find('3') != -1 : \n",
    "        game+='짝 / '\n",
    "        continue\n",
    "    elif str(i).find('6') != -1: \n",
    "        game+='짝 / '\n",
    "        continue        \n",
    "    elif str(i).find('9') != -1:\n",
    "        game+='짝 / '\n",
    "        continue\n",
    "    game+=(str(i)+' / ')\n",
    "print(game[:-3])"
   ]
  },
  {
   "cell_type": "code",
   "execution_count": 2,
   "metadata": {},
   "outputs": [
    {
     "name": "stdout",
     "output_type": "stream",
     "text": [
      "1 / 2 / 짝 / 4 / 5 / 짝 / 7 / 8 / 짝 / 10 / 11 / 짝 / 짝 / 14 / 짝 / 짝 / 17 / 짝 / 짝 / 20 / 짝 / 22 / 짝 / 짝 / 25 / 짝 / 짝 / 28 / 짝 / 짝"
     ]
    }
   ],
   "source": [
    "# sol2) 3의 배수와 3,6,9 모두 한줄에 검사 ('3' in '3' 자체가 True 반환!) & 문자열 '+' 연산 말고 end이용해서 개행 대체하기!\n",
    "for i in range(1,31):\n",
    "    if (i % 3 == 0) or ('3' in str(i) or '6' in str(i) or '9' in str(i)) :\n",
    "        if i == 30: \n",
    "            print('짝', end='')\n",
    "            continue\n",
    "        print('짝', end=\" / \")\n",
    "        continue\n",
    "    print(i, end=' / ')"
   ]
  },
  {
   "cell_type": "code",
   "execution_count": 3,
   "metadata": {},
   "outputs": [
    {
     "name": "stdout",
     "output_type": "stream",
     "text": [
      "1 / 2 / 짝 / 4 / 5 / 짝 / 7 / 8 / 짝 / 10 / 11 / 짝 / 짝 / 14 / 짝 / 짝 / 17 / 짝 / 짝 / 20 / 짝 / 22 / 짝 / 짝 / 25 / 짝 / 짝 / 28 / 짝 / 짝 / \n",
      "['1', '2', '짝', '4', '5', '짝', '7', '8', '짝', '10', '11', '짝', '짝', '14', '짝', '짝', '17', '짝', '짝', '20', '짝', '22', '짝', '짝', '25', '짝', '짝', '28', '짝', '짝']\n"
     ]
    }
   ],
   "source": [
    "# sol3) 배열\n",
    "num_li = [str(i) for i in range(1, 31)] # for문 반복하면서 배열에 순서대로 담기\n",
    "clap_li = ['3','6','9']\n",
    "result = []\n",
    "\n",
    "# or 연산자의 우선순위가 제일 낮음. 한줄에 다 검사해서 빈 result 배열 뒤에 하나씩 추가하기(append)\n",
    "for i in num_li:\n",
    "    if '3' in i or '6' in i or '9' in i or int(i) % int(3) == 0:\n",
    "        result.append('짝')\n",
    "    else:\n",
    "        result.append(i)\n",
    "\n",
    "# 배열요소들을 개행 대신 ' / '로 이어붙여서 출력하기 (한줄로)\n",
    "for i in result:\n",
    "    print(i, end=\" / \")\n",
    "\n",
    "# 추가적으로 result 배열의 모습 확인\n",
    "print()\n",
    "print(result)"
   ]
  },
  {
   "cell_type": "markdown",
   "metadata": {},
   "source": [
    "### (2) Lambda 함수를 사용해서 작성"
   ]
  },
  {
   "cell_type": "code",
   "execution_count": 4,
   "metadata": {},
   "outputs": [
    {
     "name": "stdout",
     "output_type": "stream",
     "text": [
      "1 / 2 / 짝 / 4 / 5 / 짝 / 7 / 8 / 짝 / 10 / 11 / 짝 / 짝 / 14 / 짝 / 짝 / 17 / 짝 / 짝 / 20 / 짝 / 22 / 짝 / 짝 / 25 / 짝 / 짝 / 28 / 짝 / 짝\n"
     ]
    }
   ],
   "source": [
    "# 기본 설정(정의, 초기화)\n",
    "result=[]\n",
    "add_result = lambda x : result.append(x) # add_result는 lambda로 만든 함수! 따라서 add_result(x) 로 호출해서 사용해야함!\n",
    "\n",
    "# 1~30 배열의 요소 하나하나 검사\n",
    "for i in range(1,31):\n",
    "    if (i % 3 == 0) or ('3' in str(i) or '6' in str(i) or '9' in str(i)) :\n",
    "        add_result('짝')\n",
    "        continue\n",
    "    add_result(i)\n",
    "\n",
    "\n",
    "# lambda함수 사용해서 다 str로 변환한 후, join으로 배열요소들 다 붙여서 한 줄로 출력\n",
    "print(' / '.join(list(map(lambda i : str(i), result))))\n"
   ]
  },
  {
   "cell_type": "code",
   "execution_count": 5,
   "metadata": {
    "scrolled": true
   },
   "outputs": [
    {
     "name": "stdout",
     "output_type": "stream",
     "text": [
      "<class 'function'>\n",
      "[1, 2, '짝', 4, 5, '짝', 7, 8, '짝', 10, 11, '짝', '짝', 14, '짝', '짝', 17, '짝', '짝', 20, '짝', 22, '짝', '짝', 25, '짝', '짝', 28, '짝', '짝']\n"
     ]
    }
   ],
   "source": [
    "print(type(add_result)) #말그대로 result는 lambda 함수임!! 따라서 return 값이 아님!\n",
    "print(result)"
   ]
  },
  {
   "cell_type": "markdown",
   "metadata": {},
   "source": [
    "<hr>"
   ]
  },
  {
   "cell_type": "markdown",
   "metadata": {},
   "source": [
    "### < i in range(31) >\n",
    "* i는 0부터 30까지 돌음\n",
    "* **True or False 반환**\n",
    "* 위에서 i = 1로 초기화를 했다면, i=1은 0부터 30사이에 포함되므로 print(i in range(31)) => **True** 출력!\n",
    "\n",
    "### < i in range(1, 31) >\n",
    "* i는 1부터 30까지 돌음\n",
    "\n",
    "### < print(end='') => 문자열 등을 한 줄에 이어서 출력하고 싶을 때 >\n",
    "* sol1) s = '' => 빈 문자열 생성 후 하나씩 **'+' 연산자로 이어붙이고** 마지막에 출력\n",
    "* sol2) 매번 출력하는데, **print('', end = ' / ')** => 이런식으로 개행 문자 대신 출력 후 이어붙일 문자 설정해주기\n",
    "    * 따라서 배열안의 요소들 한 줄로 이어서 출력하고 싶을 때? => for문 & print(i, end='')\n",
    "\n",
    "### < 배열.append(i) >\n",
    "* 배열 맨 뒤에 하나씩 추가 (이어붙이기)"
   ]
  },
  {
   "cell_type": "markdown",
   "metadata": {},
   "source": [
    "### < 문자열(string).find() 함수 >\n",
    "* **문자열** 객체의 함수\n",
    "* 배열(list)에는 적용X\n",
    "* 만약 문자열안에 특정 문자열 or 문자가 **있으면 위치 index 반환**\n",
    "* **없으면 -1 반환**"
   ]
  },
  {
   "cell_type": "code",
   "execution_count": 6,
   "metadata": {
    "scrolled": true
   },
   "outputs": [
    {
     "name": "stdout",
     "output_type": "stream",
     "text": [
      "2\n",
      "c\n",
      "-1\n"
     ]
    }
   ],
   "source": [
    "s = 'abc'\n",
    "print(s.find('c'))\n",
    "print(s[s.find('c')])\n",
    "print(s.find('d')) #없으면 -1 반환"
   ]
  },
  {
   "cell_type": "markdown",
   "metadata": {},
   "source": [
    "### < if '3' in i or '6' in i or '9' in i or int(i) % int(3) == 0 >\n",
    "* **or 연산자의 우선순위가 가장 낮으므로**, 비교연산자인 **==** 과 **in** 연산 후에 **or** 연산\n",
    "* 셋 다 **True or False 반환**\n",
    "* 참고로 ***0만 False!***\n",
    "    * cf. print('4' **not in** '369') => **False 반환!**"
   ]
  },
  {
   "cell_type": "code",
   "execution_count": 7,
   "metadata": {
    "scrolled": true
   },
   "outputs": [
    {
     "name": "stdout",
     "output_type": "stream",
     "text": [
      "True\n",
      "False\n"
     ]
    }
   ],
   "source": [
    "print(True or False)\n",
    "print(False or False)"
   ]
  },
  {
   "cell_type": "code",
   "execution_count": 8,
   "metadata": {
    "scrolled": true
   },
   "outputs": [
    {
     "name": "stdout",
     "output_type": "stream",
     "text": [
      "True\n",
      "True\n"
     ]
    }
   ],
   "source": [
    "print('6' in '6')\n",
    "print('4' not in '369')"
   ]
  },
  {
   "cell_type": "markdown",
   "metadata": {},
   "source": [
    "### < 몫(//), 나머지(%), 나눗셈(/) 연산자 >"
   ]
  },
  {
   "cell_type": "code",
   "execution_count": 9,
   "metadata": {
    "scrolled": false
   },
   "outputs": [
    {
     "name": "stdout",
     "output_type": "stream",
     "text": [
      "3\n",
      "0\n",
      "2.5\n",
      "1\n"
     ]
    }
   ],
   "source": [
    "print(9//3) # 몫 연산자\n",
    "print(9%3)  # 나머지 연산자\n",
    "print(5/2)  # 나눗셈 연산자\n",
    "print(1%3)"
   ]
  },
  {
   "cell_type": "markdown",
   "metadata": {},
   "source": [
    "### < Lambda 함수 >\n",
    "* 말그대로 **함수!** \n",
    "* 이름이 없는 익명함수, 간단한 함수를 작성하는데 쓰인다.  \n",
    "> **add_result = lambda x : result.append(x)**\n",
    "    * add_result는 **lambda로 만든 함수**! 따라서 add_result(x) 로 **호출**해서 사용해야함!\n",
    "    *  **add_result(i) == result.append(i)**"
   ]
  },
  {
   "cell_type": "code",
   "execution_count": 10,
   "metadata": {},
   "outputs": [
    {
     "name": "stdout",
     "output_type": "stream",
     "text": [
      "5\n"
     ]
    }
   ],
   "source": [
    "# lambda함수 간단한 ex)\n",
    "lambdaAdd = lambda n,m:n+m\n",
    "print(lambdaAdd(2,3)) # 호출시 람다 함수 return값 사용"
   ]
  }
 ],
 "metadata": {
  "kernelspec": {
   "display_name": "Python 3",
   "language": "python",
   "name": "python3"
  },
  "language_info": {
   "codemirror_mode": {
    "name": "ipython",
    "version": 3
   },
   "file_extension": ".py",
   "mimetype": "text/x-python",
   "name": "python",
   "nbconvert_exporter": "python",
   "pygments_lexer": "ipython3",
   "version": "3.7.3"
  }
 },
 "nbformat": 4,
 "nbformat_minor": 2
}
