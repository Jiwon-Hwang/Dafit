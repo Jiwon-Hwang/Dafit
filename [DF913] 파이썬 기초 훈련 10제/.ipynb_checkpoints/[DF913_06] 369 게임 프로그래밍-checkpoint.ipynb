{
 "cells": [
  {
   "cell_type": "markdown",
   "metadata": {},
   "source": [
    "# [DF913_06]"
   ]
  },
  {
   "cell_type": "markdown",
   "metadata": {},
   "source": [
    "## 6. 369 게임 프로그래밍"
   ]
  },
  {
   "cell_type": "markdown",
   "metadata": {},
   "source": [
    "369 게임의 규칙은 다음과 같다고 한다.  \n",
    "\n",
    "(1) ‘3’,‘6’,‘9’가 포함된 숫자에서 숫자가 아닌 ‘짝’을 출력한다.  \n",
    "(2) ‘3’,‘6’,‘9’의 배수인 숫자에서 숫자가 아닌 ‘짝’을 출력한다.  \n",
    "(3) 규칙을 중복해서 만족하는 숫자의 차례에서는 ‘짝짝’이 아닌 ‘짝’을 출력한다.  \n",
    "(4) 각 숫자의 사이에는 ‘ / ’ 가 존재한다. ( ex. 1 / 2 / 짝 / 4 / ... )  \n",
    "\n",
    "주어진 게임의 규칙을 만족하도록 하여 0부터 30까지의 범위에 대하여 출력하는 코드를 작성하시오. (단, 이 때 코드는 두 가지 버전으로 작성한다.)  \n",
    "\n",
    "(1) Lambda 함수를 사용하지 않고 작성하세요.  \n",
    "(2) Lambda 함수를 사용해서 작성하세요.  "
   ]
  },
  {
   "cell_type": "code",
   "execution_count": null,
   "metadata": {},
   "outputs": [],
   "source": []
  },
  {
   "cell_type": "markdown",
   "metadata": {},
   "source": [
    ">이미 존재하는 규칙 또는 모델을 코드를 작성할 수 있다."
   ]
  },
  {
   "cell_type": "markdown",
   "metadata": {},
   "source": [
    "### < 문자열 함수들 정리 >\n",
    "### 1. 대, 소문자 변환\n",
    "* s.upper() : 대문자로 변환\n",
    "* s.lower() : 소문자로 변환\n",
    "* s.swapcase() : 대문자는 소문자로, 소문자는 대문자로\n",
    "* s.capitalize() : 첫문자를 대문자로\n",
    "* s.title() : 단어의 첫 문자를 대문자로 (space 다음)\n",
    "\n",
    "### 2. 치환\n",
    "* s.replace('지원', '바보 지원', count) : '지원'을 '바보 지원'으로 바꿈. 단, count 횟수 만큼만!\n",
    "\n",
    "### 3. 분리, 결합\n",
    "* s.split() : 공백 기준으로 분리\n",
    "    * cf. split() 함수는, space 몇개든 다 무시하고 배열에 각각 담아줌 (sting으로)\n",
    "* s.split('and') : 'and' 기준으로 분리\n",
    "    * '안녕하세요, 저는, 지원입니다'.split(',') => ['안녕하세요', ' 저는', ' 지원입니다']\n",
    "    * '지금은 글을 쓰고안녕있습니다.'.split('안녕') => ['지금은 글을 쓰고', 있습니다.']\n",
    "* '+'.join(s) : '+' 문자로 결합  \n",
    "\n",
    "  \n",
    "### cf. 검색, 공백제거, 정렬, 구성요소판별, 문자채우기 등도 가능!"
   ]
  }
 ],
 "metadata": {
  "kernelspec": {
   "display_name": "Python 3",
   "language": "python",
   "name": "python3"
  },
  "language_info": {
   "codemirror_mode": {
    "name": "ipython",
    "version": 3
   },
   "file_extension": ".py",
   "mimetype": "text/x-python",
   "name": "python",
   "nbconvert_exporter": "python",
   "pygments_lexer": "ipython3",
   "version": "3.7.3"
  }
 },
 "nbformat": 4,
 "nbformat_minor": 2
}
