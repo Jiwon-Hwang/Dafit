{
 "cells": [
  {
   "cell_type": "markdown",
   "metadata": {},
   "source": [
    "# [DF913_07]"
   ]
  },
  {
   "cell_type": "markdown",
   "metadata": {},
   "source": [
    "## 7. 별찍기 혼합"
   ]
  },
  {
   "cell_type": "markdown",
   "metadata": {},
   "source": [
    "숫자 하나를 입력으로 받아, 다음과 같은 패턴을 작성하는 프로그램을 작성하여라.  \n",
    "\n",
    "<Example>  \n",
    "      \n",
    "Input : 5  \n",
    "\n",
    "Output :   "
   ]
  },
  {
   "cell_type": "markdown",
   "metadata": {},
   "source": [
    "<img src=\"DF913_07_별찍기혼합.png\" width=\"20%\">"
   ]
  },
  {
   "cell_type": "markdown",
   "metadata": {},
   "source": [
    ">제어문을 연습한다."
   ]
  },
  {
   "cell_type": "code",
   "execution_count": 2,
   "metadata": {},
   "outputs": [
    {
     "name": "stdout",
     "output_type": "stream",
     "text": [
      "ABCDEFGHIJKLMNOPQRSTUVWXYZ\n"
     ]
    }
   ],
   "source": [
    "from string import ascii_uppercase\n",
    "print(ascii_uppercase)"
   ]
  },
  {
   "cell_type": "markdown",
   "metadata": {},
   "source": [
    "<hr>"
   ]
  },
  {
   "cell_type": "markdown",
   "metadata": {},
   "source": [
    "### < i in range(31) >\n",
    "* i는 0부터 30까지 돌음\n",
    "* **True or False 반환**\n",
    "* 위에서 i = 1로 초기화를 했다면, i=1은 0부터 30사이에 포함되므로 print(i in range(31)) => **True** 출력!\n",
    "\n",
    "### < i in range(1, 31) >\n",
    "* i는 1부터 30까지 돌음\n",
    "\n",
    "### < print(end='') => 문자열 등을 한 줄에 이어서 출력하고 싶을 때 >\n",
    "* sol1) s = '' => 빈 문자열 생성 후 하나씩 **'+' 연산자로 이어붙이고** 마지막에 출력\n",
    "* sol2) 매번 출력하는데, **print('', end = ' / ')** => 이런식으로 개행 문자 대신 출력 후 이어붙일 문자 설정해주기\n",
    "    * 따라서 배열안의 요소들 한 줄로 이어서 출력하고 싶을 때? => for문 & print(i, end='')\n",
    "\n",
    "### < 배열.append(i) >\n",
    "* 배열 맨 뒤에 하나씩 추가 (이어붙이기)"
   ]
  },
  {
   "cell_type": "markdown",
   "metadata": {},
   "source": [
    "### < 문자열(string).find() 함수 >\n",
    "* **문자열** 객체의 함수\n",
    "* 배열(list)에는 적용X\n",
    "* 만약 문자열안에 특정 문자열 or 문자가 **있으면 위치 index 반환**\n",
    "* **없으면 -1 반환**"
   ]
  },
  {
   "cell_type": "code",
   "execution_count": 6,
   "metadata": {
    "scrolled": true
   },
   "outputs": [
    {
     "name": "stdout",
     "output_type": "stream",
     "text": [
      "2\n",
      "c\n",
      "-1\n"
     ]
    }
   ],
   "source": [
    "s = 'abc'\n",
    "print(s.find('c'))\n",
    "print(s[s.find('c')])\n",
    "print(s.find('d')) #없으면 -1 반환"
   ]
  },
  {
   "cell_type": "markdown",
   "metadata": {},
   "source": [
    "### < if '3' in i or '6' in i or '9' in i or int(i) % int(3) == 0 >\n",
    "* **or 연산자의 우선순위가 가장 낮으므로**, 비교연산자인 **==** 과 **in** 연산 후에 **or** 연산\n",
    "* 셋 다 **True or False 반환**\n",
    "* 참고로 ***0만 False!***\n",
    "    * cf. print('4' **not in** '369') => **False 반환!**"
   ]
  },
  {
   "cell_type": "code",
   "execution_count": 7,
   "metadata": {
    "scrolled": true
   },
   "outputs": [
    {
     "name": "stdout",
     "output_type": "stream",
     "text": [
      "True\n",
      "False\n"
     ]
    }
   ],
   "source": [
    "print(True or False)\n",
    "print(False or False)"
   ]
  },
  {
   "cell_type": "code",
   "execution_count": 8,
   "metadata": {
    "scrolled": true
   },
   "outputs": [
    {
     "name": "stdout",
     "output_type": "stream",
     "text": [
      "True\n",
      "True\n"
     ]
    }
   ],
   "source": [
    "print('6' in '6')\n",
    "print('4' not in '369')"
   ]
  },
  {
   "cell_type": "markdown",
   "metadata": {},
   "source": [
    "### < 몫(//), 나머지(%), 나눗셈(/) 연산자 >"
   ]
  },
  {
   "cell_type": "code",
   "execution_count": 9,
   "metadata": {
    "scrolled": false
   },
   "outputs": [
    {
     "name": "stdout",
     "output_type": "stream",
     "text": [
      "3\n",
      "0\n",
      "2.5\n",
      "1\n"
     ]
    }
   ],
   "source": [
    "print(9//3) # 몫 연산자\n",
    "print(9%3)  # 나머지 연산자\n",
    "print(5/2)  # 나눗셈 연산자\n",
    "print(1%3)"
   ]
  },
  {
   "cell_type": "markdown",
   "metadata": {},
   "source": [
    "### < Lambda 함수 >\n",
    "* 말그대로 **함수!** \n",
    "* 이름이 없는 익명함수, 간단한 함수를 작성하는데 쓰인다.  \n",
    "> **add_result = lambda x : result.append(x)**\n",
    "    * add_result는 **lambda로 만든 함수**! 따라서 add_result(x) 로 **호출**해서 사용해야함!\n",
    "    *  **add_result(i) == result.append(i)**"
   ]
  },
  {
   "cell_type": "code",
   "execution_count": 10,
   "metadata": {},
   "outputs": [
    {
     "name": "stdout",
     "output_type": "stream",
     "text": [
      "5\n"
     ]
    }
   ],
   "source": [
    "# lambda함수 간단한 ex)\n",
    "lambdaAdd = lambda n,m:n+m\n",
    "print(lambdaAdd(2,3)) # 호출시 람다 함수 return값 사용"
   ]
  }
 ],
 "metadata": {
  "kernelspec": {
   "display_name": "Python 3",
   "language": "python",
   "name": "python3"
  },
  "language_info": {
   "codemirror_mode": {
    "name": "ipython",
    "version": 3
   },
   "file_extension": ".py",
   "mimetype": "text/x-python",
   "name": "python",
   "nbconvert_exporter": "python",
   "pygments_lexer": "ipython3",
   "version": "3.7.3"
  }
 },
 "nbformat": 4,
 "nbformat_minor": 2
}
