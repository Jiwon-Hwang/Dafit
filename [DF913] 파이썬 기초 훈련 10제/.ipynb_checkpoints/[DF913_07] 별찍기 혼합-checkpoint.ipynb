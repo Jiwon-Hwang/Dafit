{
 "cells": [
  {
   "cell_type": "markdown",
   "metadata": {},
   "source": [
    "# [DF913_07]"
   ]
  },
  {
   "cell_type": "markdown",
   "metadata": {},
   "source": [
    "## 7. 별찍기 혼합"
   ]
  },
  {
   "cell_type": "markdown",
   "metadata": {},
   "source": [
    "숫자 하나를 입력으로 받아, 다음과 같은 패턴을 작성하는 프로그램을 작성하여라.  \n",
    "\n",
    "<Example>  \n",
    "      \n",
    "Input : 5  \n",
    "\n",
    "Output :   "
   ]
  },
  {
   "cell_type": "markdown",
   "metadata": {},
   "source": [
    "<img src=\"imgs/DF913_07_별찍기혼합.png\" width=\"20%\">"
   ]
  },
  {
   "cell_type": "markdown",
   "metadata": {},
   "source": [
    ">제어문을 연습한다."
   ]
  },
  {
   "cell_type": "code",
   "execution_count": 1,
   "metadata": {
    "scrolled": true
   },
   "outputs": [
    {
     "name": "stdout",
     "output_type": "stream",
     "text": [
      "10\n",
      "                A*********\n",
      "                 B********\n",
      "                  C*******\n",
      "                   D******\n",
      "                    E*****\n",
      "                     F****\n",
      "                      G***\n",
      "                       H**\n",
      "                        I*\n",
      "                         J\n",
      "                        I*\n",
      "                       H**\n",
      "                      G***\n",
      "                     F****\n",
      "                    E*****\n",
      "                   D******\n",
      "                  C*******\n",
      "                 B********\n",
      "                A*********\n"
     ]
    }
   ],
   "source": [
    "num = int(input())\n",
    "\n",
    "# i는 0부터 4까지\n",
    "for i in range(num):\n",
    "    result = ''\n",
    "    result += chr(65+i)\n",
    "    for j in range(num-i-1):\n",
    "        result += '*'\n",
    "    print('%26s'%result)\n",
    "    \n",
    "# i는 4부터 1까지\n",
    "for i in range(num-1, 0, -1):\n",
    "    result = ''\n",
    "    result += chr(64+i)\n",
    "    for j in range(num-i):\n",
    "        result += '*'\n",
    "    print('%26s'%result)"
   ]
  },
  {
   "cell_type": "code",
   "execution_count": 2,
   "metadata": {
    "scrolled": true
   },
   "outputs": [
    {
     "name": "stdout",
     "output_type": "stream",
     "text": [
      "ABCDEFGHIJKLMNOPQRSTUVWXYZ\n"
     ]
    }
   ],
   "source": [
    "# sol2) import해와서 알파벳 대문자 출력 가능\n",
    "from string import ascii_uppercase\n",
    "print(ascii_uppercase)"
   ]
  },
  {
   "cell_type": "markdown",
   "metadata": {},
   "source": [
    "<hr>"
   ]
  },
  {
   "attachments": {},
   "cell_type": "markdown",
   "metadata": {},
   "source": [
    "### < i in range(4, 0, -1) >\n",
    "* i는 **4, 3, 2, 1** 까지!\n",
    "* **True or False 반환**\n",
    "\n",
    "### < chr(65) = 'A'  ,  ord('A') = 65 >\n",
    "* **chr(65)** 함수 : 숫자에 해당하는 **문자(알파벳 등 chr형)**를 반환해준다.\n",
    "* **ord('A')** 함수 : 문자(알파벳 등 chr)에 해당하는 **숫자(아스키코드)**를 반환해준다.\n",
    "<img src='imgs/DF913_07_ascii.png'>"
   ]
  },
  {
   "cell_type": "code",
   "execution_count": 3,
   "metadata": {
    "scrolled": true
   },
   "outputs": [
    {
     "name": "stdout",
     "output_type": "stream",
     "text": [
      "4\n",
      "3\n",
      "2\n",
      "1\n"
     ]
    }
   ],
   "source": [
    "for i in range(4, 0, -1):\n",
    "    print(i)"
   ]
  },
  {
   "cell_type": "code",
   "execution_count": 4,
   "metadata": {
    "scrolled": true
   },
   "outputs": [
    {
     "name": "stdout",
     "output_type": "stream",
     "text": [
      "A\n",
      "65\n"
     ]
    }
   ],
   "source": [
    "print(chr(65))\n",
    "print(ord('A'))"
   ]
  },
  {
   "cell_type": "markdown",
   "metadata": {},
   "source": [
    "### < 문자열 출력폭 및 정렬 >\n",
    "* print(**'%26s'** % result) => **출력폭을 26칸으로, 우측 정렬**\n",
    "* print(**'%-26s'** % result) => **출력폭을 26칸으로, 좌측 정렬**\n",
    "  \n",
    "> 알파벳은 총 26개이므로(대문자) 출력폭을 26칸으로"
   ]
  }
 ],
 "metadata": {
  "kernelspec": {
   "display_name": "Python 3",
   "language": "python",
   "name": "python3"
  },
  "language_info": {
   "codemirror_mode": {
    "name": "ipython",
    "version": 3
   },
   "file_extension": ".py",
   "mimetype": "text/x-python",
   "name": "python",
   "nbconvert_exporter": "python",
   "pygments_lexer": "ipython3",
   "version": "3.7.3"
  }
 },
 "nbformat": 4,
 "nbformat_minor": 2
}
