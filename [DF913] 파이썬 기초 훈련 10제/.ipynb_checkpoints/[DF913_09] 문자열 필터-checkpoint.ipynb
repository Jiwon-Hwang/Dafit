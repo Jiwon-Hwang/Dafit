{
 "cells": [
  {
   "cell_type": "markdown",
   "metadata": {},
   "source": [
    "# [DF913_09]"
   ]
  },
  {
   "cell_type": "markdown",
   "metadata": {},
   "source": [
    "## 9. 문자열 필터"
   ]
  },
  {
   "cell_type": "markdown",
   "metadata": {},
   "source": [
    "다음과 같은 문자열을 입력으로 받아서 1회 또는 6회 반복된 숫자만 모은 후 정렬해서 출력\n",
    "하는 코드를 작성하세요.  \n",
    "(단, 모든 수는 한자리 숫자라고 가정한다.)  \n",
    "input : \"11111133557788892\"  \n",
    "output : 1 2 9  "
   ]
  },
  {
   "cell_type": "markdown",
   "metadata": {},
   "source": [
    ">이미 존재하는 규칙에 맞는 코드를 작성할 수 있다."
   ]
  },
  {
   "cell_type": "code",
   "execution_count": null,
   "metadata": {},
   "outputs": [],
   "source": []
  },
  {
   "cell_type": "markdown",
   "metadata": {},
   "source": [
    "<hr>"
   ]
  },
  {
   "cell_type": "markdown",
   "metadata": {},
   "source": [
    "### < '문자열'.isdigit() , isalpha() , isdecimal() >\n",
    "* 모두 다 **해당 문자열이 숫자인지, 문자인지** 판별해주는 **문자열 함수**\n",
    "* **isdigit()** : 문자열이 **숫자인지** 판별해주는 함수\n",
    "* **isalpha()** : 문자열이 **문자인지** 판별해주는 함수\n",
    "* **isdecimal()** : 문자열이 **int()형으로 변환이 가능한지(숫자인지)** 판별해주는 함수\n",
    "    * '3²'==> 이런 수로 이루어진 문자열이 있을 때, \n",
    "    * '3²'.isdigit() : **True (눈으로 보기에 숫자로 인지되므로!)**\n",
    "    * '3²'.isdecimal() : **False (실제로 int형으로 변환 가능한 decimal이 아니므로!)** ==> 제곱은 숫자가 아닌, **특수문자**다!\n",
    "> **i.isdigit()** 이 True로 나왔다고 *int형이 아니다!* ==> **str형!!**"
   ]
  },
  {
   "cell_type": "code",
   "execution_count": 2,
   "metadata": {
    "scrolled": true
   },
   "outputs": [
    {
     "name": "stdout",
     "output_type": "stream",
     "text": [
      "True\n",
      "False\n",
      "False\n"
     ]
    }
   ],
   "source": [
    "# isdigit(), isdecimal(), isalpha() 예시\n",
    "print('3²'.isdigit())\n",
    "print('3²'.isdecimal())\n",
    "print('3²'.isalpha())"
   ]
  },
  {
   "cell_type": "code",
   "execution_count": 3,
   "metadata": {},
   "outputs": [
    {
     "name": "stdout",
     "output_type": "stream",
     "text": [
      "3 <class 'str'>\n",
      "6 <class 'str'>\n",
      "1 <class 'str'>\n",
      "7 <class 'str'>\n"
     ]
    }
   ],
   "source": [
    "# isdigit() 이 True가 나와도 str형!!\n",
    "input_code = 'x3y6z1k7'\n",
    "output_code = ''\n",
    "\n",
    "for i in input_code:\n",
    "    if(i.isdigit()):\n",
    "        print(i, type(i))"
   ]
  },
  {
   "cell_type": "markdown",
   "metadata": {},
   "source": [
    "### < 문자열&리스트의 '+' 연산자 >\n",
    "* **이어붙이기** 연산자"
   ]
  },
  {
   "cell_type": "code",
   "execution_count": 4,
   "metadata": {},
   "outputs": [
    {
     "data": {
      "text/plain": [
       "'xxx'"
      ]
     },
     "execution_count": 4,
     "metadata": {},
     "output_type": "execute_result"
    }
   ],
   "source": [
    "a = 'x'\n",
    "b = '3'\n",
    "a*int(b) # 'x'*3 == 'xxx'"
   ]
  },
  {
   "cell_type": "markdown",
   "metadata": {},
   "source": [
    "### < chr(65) = 'A'  ,  ord('A') = 65 >\n",
    "* **chr(65)** 함수 : 숫자에 해당하는 **문자(알파벳 등 chr형)**를 반환해준다.\n",
    "* **ord('A')** 함수 : 문자(알파벳 등 chr)에 해당하는 **숫자(아스키코드)**를 반환해준다.\n",
    "<img src='imgs/DF913_07_ascii.png'>"
   ]
  },
  {
   "cell_type": "code",
   "execution_count": 5,
   "metadata": {
    "scrolled": true
   },
   "outputs": [
    {
     "name": "stdout",
     "output_type": "stream",
     "text": [
      "A\n",
      "65\n"
     ]
    }
   ],
   "source": [
    "print(chr(65))\n",
    "print(ord('A'))"
   ]
  },
  {
   "cell_type": "markdown",
   "metadata": {},
   "source": [
    "### < 문자열 출력폭 및 정렬 >\n",
    "* print(**'%26s'** % result) => **출력폭을 26칸으로, 우측 정렬**\n",
    "* print(**'%-26s'** % result) => **출력폭을 26칸으로, 좌측 정렬**\n",
    "  \n",
    "> 알파벳은 총 26개이므로(대문자) 출력폭을 26칸으로"
   ]
  }
 ],
 "metadata": {
  "kernelspec": {
   "display_name": "Python 3",
   "language": "python",
   "name": "python3"
  },
  "language_info": {
   "codemirror_mode": {
    "name": "ipython",
    "version": 3
   },
   "file_extension": ".py",
   "mimetype": "text/x-python",
   "name": "python",
   "nbconvert_exporter": "python",
   "pygments_lexer": "ipython3",
   "version": "3.7.3"
  }
 },
 "nbformat": 4,
 "nbformat_minor": 2
}
