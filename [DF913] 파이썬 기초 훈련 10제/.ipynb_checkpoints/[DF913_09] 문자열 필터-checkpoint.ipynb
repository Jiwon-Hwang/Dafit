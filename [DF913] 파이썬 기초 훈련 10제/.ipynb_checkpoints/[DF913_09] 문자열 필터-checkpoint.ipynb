{
 "cells": [
  {
   "cell_type": "markdown",
   "metadata": {},
   "source": [
    "# [DF913_09]"
   ]
  },
  {
   "cell_type": "markdown",
   "metadata": {},
   "source": [
    "## 9. 문자열 필터"
   ]
  },
  {
   "cell_type": "markdown",
   "metadata": {},
   "source": [
    "다음과 같은 문자열을 입력으로 받아서 1회 또는 6회 반복된 숫자만 모은 후 정렬해서 출력\n",
    "하는 코드를 작성하세요.  \n",
    "(단, 모든 수는 한자리 숫자라고 가정한다.)  \n",
    "input : \"11111133557788892\"  \n",
    "output : 1 2 9  "
   ]
  },
  {
   "cell_type": "markdown",
   "metadata": {},
   "source": [
    ">이미 존재하는 규칙에 맞는 코드를 작성할 수 있다."
   ]
  },
  {
   "cell_type": "code",
   "execution_count": 31,
   "metadata": {
    "scrolled": true
   },
   "outputs": [
    {
     "name": "stdout",
     "output_type": "stream",
     "text": [
      "11111133557788892\n",
      "1 2 9 "
     ]
    }
   ],
   "source": [
    "s = input()\n",
    "s_items = list(set(s)) # ['5', '8', '9', '3', '2', '1', '7']\n",
    "result = []\n",
    "for i in s_items:\n",
    "    if(s.count(i) == 1 or s.count(i) == 6):\n",
    "        result.append(i)\n",
    "#result =result.sort() => None 출력! (***.sort()함수는 값을 반환하지 않는다. 그냥 result 객체 자체를 정렬시킬뿐!***)\n",
    "result.sort()\n",
    "\n",
    "for i in result:\n",
    "    print(i, end=' ')"
   ]
  },
  {
   "cell_type": "code",
   "execution_count": 21,
   "metadata": {
    "scrolled": true
   },
   "outputs": [
    {
     "ename": "AttributeError",
     "evalue": "'str' object has no attribute 'sort'",
     "output_type": "error",
     "traceback": [
      "\u001b[1;31m---------------------------------------------------------------------------\u001b[0m",
      "\u001b[1;31mAttributeError\u001b[0m                            Traceback (most recent call last)",
      "\u001b[1;32m<ipython-input-21-3073a9a12339>\u001b[0m in \u001b[0;36m<module>\u001b[1;34m\u001b[0m\n\u001b[1;32m----> 1\u001b[1;33m \u001b[0mprint\u001b[0m\u001b[1;33m(\u001b[0m\u001b[1;34m'362'\u001b[0m\u001b[1;33m.\u001b[0m\u001b[0msort\u001b[0m\u001b[1;33m(\u001b[0m\u001b[1;33m)\u001b[0m\u001b[1;33m)\u001b[0m \u001b[1;31m#\u001b[0m\u001b[1;33m\u001b[0m\u001b[1;33m\u001b[0m\u001b[0m\n\u001b[0m",
      "\u001b[1;31mAttributeError\u001b[0m: 'str' object has no attribute 'sort'"
     ]
    }
   ],
   "source": [
    "print('362'.sort()) # 문자열은 sort(), sorted() 메소드가 없다! ==> ***리스트 메소드***"
   ]
  },
  {
   "cell_type": "code",
   "execution_count": 14,
   "metadata": {},
   "outputs": [
    {
     "name": "stdout",
     "output_type": "stream",
     "text": [
      "11111133557788892\n",
      "{'5', '8', '9', '3', '2', '1', '7'}\n",
      "['1', '1', '1', '1', '1', '1', '3', '3', '5', '5', '7', '7', '8', '8', '8', '9', '2']\n",
      "['5', '8', '9', '3', '2', '1', '7']\n",
      "{'5', '8', '9', '3', '2', '1', '7'}\n",
      "6\n"
     ]
    }
   ],
   "source": [
    "s = input()\n",
    "print(set(s)) # set() : 중복되는게 몇개든간에, 종류별로 하나씩 { } 주머니 안에 담아줌\n",
    "print(list(s)) # list() : '문자열'을 한 문자씩 list에 담아줌\n",
    "print(list(set(s))) # set()으로 중복 제거 후, list()로 리스트에 담아줌\n",
    "print(str(set(s))) # set()으로 중복 제거 후, set의 원소들을 각각 string으로 바꿔줌 ***string으로 이어서 출력해주는 거 x! join() 해줘야 함)\n",
    "print(s.count('1')) # count() : 문자열 메소드. 문자열에서 특정 문자의 개수를 세어줌"
   ]
  },
  {
   "cell_type": "markdown",
   "metadata": {},
   "source": [
    "<hr>"
   ]
  },
  {
   "cell_type": "markdown",
   "metadata": {},
   "source": [
    "### < '문자열'.isdigit() , isalpha() , isdecimal() >\n",
    "* 모두 다 **해당 문자열이 숫자인지, 문자인지** 판별해주는 **문자열 함수**\n",
    "* **isdigit()** : 문자열이 **숫자인지** 판별해주는 함수\n",
    "* **isalpha()** : 문자열이 **문자인지** 판별해주는 함수\n",
    "* **isdecimal()** : 문자열이 **int()형으로 변환이 가능한지(숫자인지)** 판별해주는 함수\n",
    "    * '3²'==> 이런 수로 이루어진 문자열이 있을 때, \n",
    "    * '3²'.isdigit() : **True (눈으로 보기에 숫자로 인지되므로!)**\n",
    "    * '3²'.isdecimal() : **False (실제로 int형으로 변환 가능한 decimal이 아니므로!)** ==> 제곱은 숫자가 아닌, **특수문자**다!\n",
    "> **i.isdigit()** 이 True로 나왔다고 *int형이 아니다!* ==> **str형!!**"
   ]
  },
  {
   "cell_type": "code",
   "execution_count": 2,
   "metadata": {
    "scrolled": true
   },
   "outputs": [
    {
     "name": "stdout",
     "output_type": "stream",
     "text": [
      "True\n",
      "False\n",
      "False\n"
     ]
    }
   ],
   "source": [
    "# isdigit(), isdecimal(), isalpha() 예시\n",
    "print('3²'.isdigit())\n",
    "print('3²'.isdecimal())\n",
    "print('3²'.isalpha())"
   ]
  },
  {
   "cell_type": "code",
   "execution_count": 3,
   "metadata": {},
   "outputs": [
    {
     "name": "stdout",
     "output_type": "stream",
     "text": [
      "3 <class 'str'>\n",
      "6 <class 'str'>\n",
      "1 <class 'str'>\n",
      "7 <class 'str'>\n"
     ]
    }
   ],
   "source": [
    "# isdigit() 이 True가 나와도 str형!!\n",
    "input_code = 'x3y6z1k7'\n",
    "output_code = ''\n",
    "\n",
    "for i in input_code:\n",
    "    if(i.isdigit()):\n",
    "        print(i, type(i))"
   ]
  },
  {
   "cell_type": "markdown",
   "metadata": {},
   "source": [
    "### < 문자열&리스트의 '+' 연산자 >\n",
    "* **이어붙이기** 연산자"
   ]
  },
  {
   "cell_type": "code",
   "execution_count": 4,
   "metadata": {},
   "outputs": [
    {
     "data": {
      "text/plain": [
       "'xxx'"
      ]
     },
     "execution_count": 4,
     "metadata": {},
     "output_type": "execute_result"
    }
   ],
   "source": [
    "a = 'x'\n",
    "b = '3'\n",
    "a*int(b) # 'x'*3 == 'xxx'"
   ]
  },
  {
   "cell_type": "markdown",
   "metadata": {},
   "source": [
    "### < chr(65) = 'A'  ,  ord('A') = 65 >\n",
    "* **chr(65)** 함수 : 숫자에 해당하는 **문자(알파벳 등 chr형)**를 반환해준다.\n",
    "* **ord('A')** 함수 : 문자(알파벳 등 chr)에 해당하는 **숫자(아스키코드)**를 반환해준다.\n",
    "<img src='imgs/DF913_07_ascii.png'>"
   ]
  },
  {
   "cell_type": "code",
   "execution_count": 5,
   "metadata": {
    "scrolled": true
   },
   "outputs": [
    {
     "name": "stdout",
     "output_type": "stream",
     "text": [
      "A\n",
      "65\n"
     ]
    }
   ],
   "source": [
    "print(chr(65))\n",
    "print(ord('A'))"
   ]
  },
  {
   "cell_type": "markdown",
   "metadata": {},
   "source": [
    "### < 문자열 출력폭 및 정렬 >\n",
    "* print(**'%26s'** % result) => **출력폭을 26칸으로, 우측 정렬**\n",
    "* print(**'%-26s'** % result) => **출력폭을 26칸으로, 좌측 정렬**\n",
    "  \n",
    "> 알파벳은 총 26개이므로(대문자) 출력폭을 26칸으로"
   ]
  }
 ],
 "metadata": {
  "kernelspec": {
   "display_name": "Python 3",
   "language": "python",
   "name": "python3"
  },
  "language_info": {
   "codemirror_mode": {
    "name": "ipython",
    "version": 3
   },
   "file_extension": ".py",
   "mimetype": "text/x-python",
   "name": "python",
   "nbconvert_exporter": "python",
   "pygments_lexer": "ipython3",
   "version": "3.7.3"
  }
 },
 "nbformat": 4,
 "nbformat_minor": 2
}
