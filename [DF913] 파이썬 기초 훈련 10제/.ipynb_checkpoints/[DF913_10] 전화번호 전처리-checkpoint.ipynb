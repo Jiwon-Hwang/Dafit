{
 "cells": [
  {
   "cell_type": "markdown",
   "metadata": {},
   "source": [
    "# [DF913_10]"
   ]
  },
  {
   "cell_type": "markdown",
   "metadata": {},
   "source": [
    "## 10. 전화번호 전처리"
   ]
  },
  {
   "cell_type": "markdown",
   "metadata": {},
   "source": [
    "다음과 같은 네 가지 경우의 수 중 하나의 형태로 전화번호가 입력된다고 하자.  \n",
    ">1) 010-1234-5678  \n",
    "2) 01012345678  \n",
    "3) 10-1234-5678  \n",
    "4) 1012345678  \n",
    "\n",
    "그 때 다음 조건을 만족하는 코드를 작성하세요.  \n",
    ">(1) 위의 4가지 형태에 부합하지 않을 경우 “ERROR!” 를 출력합니다.  \n",
    "(2) 4가지 형태에 부합하는 입력이라면 01012345678 꼴로 출력합니다.\n",
    "\n",
    "(최소 8가지 테스트 케이스를 통해 스스로 실험하며 확인해보세요.)"
   ]
  },
  {
   "cell_type": "markdown",
   "metadata": {},
   "source": [
    ">간단한 수준의 데이터 전처리를 위한 코드를 작성할 수 있다."
   ]
  },
  {
   "cell_type": "markdown",
   "metadata": {},
   "source": [
    "#### [ OK ]\n",
    "* 010-1234-5678        \n",
    "* 01012345678            \n",
    "* 10-1234-5678           \n",
    "* 1012345678    \n",
    "\n",
    "#### [ ERROR ]\n",
    "* 0101-1234-5678\n",
    "* 010112345678\n",
    "* 0-1234-5678\n",
    "* 012345678\n",
    "* 010-123-45678\n",
    "* 010-12345678\n",
    "* 010-12345-678\n",
    "<hr>\n",
    "* -(짝대기) 개수 0개 or 2개인지 체크 ==> 둘다 아니면 error\n",
    "* -(짝대기) 0개이면 ==> 길이가 10자리인지 11자리인지 체크 ==> 둘다 아니면 error / 맞으면 앞 2자리 or 3자리가 10 or 010 인지 체크 후 출력\n",
    "* -(짝대기) 2개이면 ==> 첫번째 - 나오기 전까지 10 or 010 인지 체크 ==> 아니면 error ==> 그 다음 각각 4자리씩인지 체크 ==> 마지막에 join"
   ]
  },
  {
   "cell_type": "code",
   "execution_count": 1,
   "metadata": {},
   "outputs": [
    {
     "name": "stdout",
     "output_type": "stream",
     "text": [
      "010-12345-678\n",
      "ERROR!\n"
     ]
    }
   ],
   "source": [
    "def isPhoneNumber(pn):\n",
    "    if pn.isdigit(): # 짝대기 0개인지\n",
    "        if(len(pn) == 10 or len(pn) == 11):\n",
    "            if(pn[:2] == '10' or pn[:3] == '010'):\n",
    "                print(pn)\n",
    "                return True\n",
    "    elif pn.count('-') == 2: # 짝대기 2개인지\n",
    "        pn_list = pn.split('-')\n",
    "        if(pn_list[0] == '10' or pn_list[0] == '010'):\n",
    "            if(len(pn_list[1]) == 4 and len(pn_list[2]) == 4):\n",
    "                print(''.join(pn_list))\n",
    "                return True\n",
    "        \n",
    "    return False # 둘 다 아니면 error\n",
    "\n",
    "\n",
    "pn = input() #string\n",
    "\n",
    "if not isPhoneNumber(pn):\n",
    "    print(\"ERROR!\")\n",
    "    "
   ]
  },
  {
   "cell_type": "markdown",
   "metadata": {},
   "source": [
    "<hr>"
   ]
  },
  {
   "cell_type": "markdown",
   "metadata": {},
   "source": [
    "##  문자열 메소드들 : isdigit(), split(), count(), join() >"
   ]
  },
  {
   "cell_type": "code",
   "execution_count": 2,
   "metadata": {},
   "outputs": [
    {
     "name": "stdout",
     "output_type": "stream",
     "text": [
      "010-1234-5678\n",
      "False\n",
      "['010', '1234', '5678']\n",
      "2\n",
      "0+1+0+-+1+2+3+4+-+5+6+7+8\n"
     ]
    }
   ],
   "source": [
    "s = input()\n",
    "\n",
    "print(s.isdigit()) # isdigit() : 문자열 메소드, 문자열이 숫자인지 판별해줌\n",
    "print(s.split('-')) # isdigit() : 문자열 메소드, 문자열을 ''안의 문자 기준으로 쪼개서 배열로 출력만 함\n",
    "print(s.count('-')) # count() : 문자열 메소드. 문자열에서 특정 문자의 개수를 세어줌\n",
    "print('+'.join(s))  # 문자열 or 리스트 ==> 리스트로! , ''안의 문자로 이어 붙여줌"
   ]
  },
  {
   "cell_type": "markdown",
   "metadata": {},
   "source": [
    "## < and 와 & >"
   ]
  },
  {
   "cell_type": "markdown",
   "metadata": {},
   "source": [
    "**and** : 논리 연산자 ==> 양 변이 둘 다 True이면 True 반환  \n",
    "**&** : 비트 연산자"
   ]
  },
  {
   "cell_type": "markdown",
   "metadata": {},
   "source": [
    "## < or 과 | >"
   ]
  },
  {
   "cell_type": "markdown",
   "metadata": {},
   "source": [
    "**or** : 논리 연산자 ==> 둘 중 하나라도 True면 True 반환  \n",
    "**|** : 비트 연산자"
   ]
  },
  {
   "cell_type": "markdown",
   "metadata": {},
   "source": [
    "## < not 과 ~ >"
   ]
  },
  {
   "cell_type": "markdown",
   "metadata": {},
   "source": [
    ">※ 주의 : 파이썬에서 **! 연산자는 없다**!! ※ \n",
    "\n",
    "**not** : 논리 연산자 ==> 조건이 True이면 False 반환  \n",
    "**~** : 비트 연산자"
   ]
  }
 ],
 "metadata": {
  "kernelspec": {
   "display_name": "Python 3",
   "language": "python",
   "name": "python3"
  },
  "language_info": {
   "codemirror_mode": {
    "name": "ipython",
    "version": 3
   },
   "file_extension": ".py",
   "mimetype": "text/x-python",
   "name": "python",
   "nbconvert_exporter": "python",
   "pygments_lexer": "ipython3",
   "version": "3.7.3"
  }
 },
 "nbformat": 4,
 "nbformat_minor": 2
}
