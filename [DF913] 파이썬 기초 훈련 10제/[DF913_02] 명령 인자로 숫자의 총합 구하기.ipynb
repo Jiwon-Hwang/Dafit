{
 "cells": [
  {
   "cell_type": "markdown",
   "metadata": {},
   "source": [
    "# [DF913_02]"
   ]
  },
  {
   "cell_type": "markdown",
   "metadata": {},
   "source": [
    "## 2번. 명령 인자로 숫자의 총합 구하기"
   ]
  },
  {
   "cell_type": "markdown",
   "metadata": {},
   "source": [
    "add_all 함수는 add_all(1,2,3)을 입력하면 6을 반환하고, add_all(1,2,3,4,5,6,7,8,9,10) 을 입력하면 55를 반환하는 함수라고 정의합니다. 조건에 맞게 add_all 함수를 정의하세요."
   ]
  },
  {
   "cell_type": "markdown",
   "metadata": {},
   "source": [
    "### (1) Cmd 환경이 아닌 IDE 또는 인터프리터 환경에서 작동하도록 코드를 작성하세요."
   ]
  },
  {
   "cell_type": "code",
   "execution_count": 1,
   "metadata": {
    "scrolled": true
   },
   "outputs": [
    {
     "name": "stdout",
     "output_type": "stream",
     "text": [
      "6\n",
      "55\n"
     ]
    }
   ],
   "source": [
    "def add_all(*nums) :\n",
    "    result = 0\n",
    "    for num in list(nums):\n",
    "        result += num\n",
    "    return result\n",
    "\n",
    "print(add_all(1,2,3))\n",
    "print(add_all(1,2,3,4,5,6,7,8,9,10))"
   ]
  },
  {
   "cell_type": "markdown",
   "metadata": {},
   "source": [
    "### < * args >\n",
    "* 함수의 인자로 여러 개의 값을 받고자 할 때. (주소값 받는 거 x. 정해지지 않은 수의 인자들을 받을 때)\n",
    "\n",
    "### < for문 >\n",
    "* for i in range(숫자)\n",
    "* for i in [ list ]\n",
    "* for i in list(tuple형)"
   ]
  },
  {
   "cell_type": "markdown",
   "metadata": {},
   "source": [
    "### < range형 >"
   ]
  },
  {
   "cell_type": "code",
   "execution_count": 2,
   "metadata": {
    "scrolled": true
   },
   "outputs": [
    {
     "data": {
      "text/plain": [
       "range(0, 5)"
      ]
     },
     "execution_count": 2,
     "metadata": {},
     "output_type": "execute_result"
    }
   ],
   "source": [
    "range(5)"
   ]
  },
  {
   "cell_type": "code",
   "execution_count": 6,
   "metadata": {
    "scrolled": true
   },
   "outputs": [
    {
     "data": {
      "text/plain": [
       "[0, 1, 2, 3, 4]"
      ]
     },
     "execution_count": 6,
     "metadata": {},
     "output_type": "execute_result"
    }
   ],
   "source": [
    "list(range(5)) # list로 형변환"
   ]
  },
  {
   "cell_type": "code",
   "execution_count": 8,
   "metadata": {
    "scrolled": false
   },
   "outputs": [
    {
     "data": {
      "text/plain": [
       "(0, 1, 2, 3, 4)"
      ]
     },
     "execution_count": 8,
     "metadata": {},
     "output_type": "execute_result"
    }
   ],
   "source": [
    "tuple(range(5)) # tuple로 형변환"
   ]
  },
  {
   "cell_type": "code",
   "execution_count": 12,
   "metadata": {
    "scrolled": true
   },
   "outputs": [
    {
     "data": {
      "text/plain": [
       "range"
      ]
     },
     "execution_count": 12,
     "metadata": {},
     "output_type": "execute_result"
    }
   ],
   "source": [
    "type(range(5)) # range도 하나의 형! type! => range() : 함수 / range type도 있음"
   ]
  },
  {
   "cell_type": "code",
   "execution_count": 13,
   "metadata": {
    "scrolled": true
   },
   "outputs": [
    {
     "data": {
      "text/plain": [
       "list"
      ]
     },
     "execution_count": 13,
     "metadata": {},
     "output_type": "execute_result"
    }
   ],
   "source": [
    "type([1,2,3,4]) # list형"
   ]
  },
  {
   "cell_type": "code",
   "execution_count": 15,
   "metadata": {
    "scrolled": true
   },
   "outputs": [
    {
     "data": {
      "text/plain": [
       "tuple"
      ]
     },
     "execution_count": 15,
     "metadata": {},
     "output_type": "execute_result"
    }
   ],
   "source": [
    "type((1,2,3,4)) # tuple형"
   ]
  },
  {
   "cell_type": "markdown",
   "metadata": {},
   "source": [
    "### iterable한 type : range / string / list / tuple / dictionaray / set / bytes"
   ]
  },
  {
   "cell_type": "code",
   "execution_count": 16,
   "metadata": {
    "scrolled": true
   },
   "outputs": [
    {
     "name": "stdout",
     "output_type": "stream",
     "text": [
      "a\n",
      "b\n",
      "c\n"
     ]
    }
   ],
   "source": [
    "# for i in 문자열 : 문자열 속 문자값들(i)을 하나씩 꺼내며 반복 후 출력\n",
    "for i in 'abc':\n",
    "    print(i)    # string(문자열)도 iterable한(반복가능) type!"
   ]
  },
  {
   "cell_type": "code",
   "execution_count": 19,
   "metadata": {
    "scrolled": true
   },
   "outputs": [
    {
     "name": "stdout",
     "output_type": "stream",
     "text": [
      "0\n",
      "1\n",
      "2\n",
      "3\n",
      "4\n"
     ]
    }
   ],
   "source": [
    "# for i in range : range() 속 값들(i)을 하나씩 꺼내며 반복 후 출력\n",
    "for i in range(5): \n",
    "    print(i)"
   ]
  },
  {
   "cell_type": "code",
   "execution_count": 23,
   "metadata": {
    "scrolled": false
   },
   "outputs": [
    {
     "name": "stdout",
     "output_type": "stream",
     "text": [
      "1\n",
      "2\n",
      "3\n"
     ]
    }
   ],
   "source": [
    "# for i in 배열 : 코드를 필요한만큼 반복해서 실행. 배열 속 값들(i)을 하나씩 꺼내며 반복 후 출력\n",
    "for i in [1,2,3]:\n",
    "    print(i)"
   ]
  },
  {
   "cell_type": "code",
   "execution_count": 21,
   "metadata": {},
   "outputs": [
    {
     "name": "stdout",
     "output_type": "stream",
     "text": [
      "일\n",
      "이\n",
      "삼\n",
      "사\n",
      "오\n"
     ]
    }
   ],
   "source": [
    "# for i in 배열 : 코드를 필요한만큼 반복해서 실행. 배열 속 값들(i)을 하나씩 꺼내며 반복 후 출력\n",
    "for i in [1,2,3]:\n",
    "a = ['일', '이', '삼', '사', '오']\n",
    "for v in a:\n",
    "    print(v)"
   ]
  },
  {
   "cell_type": "code",
   "execution_count": 24,
   "metadata": {
    "scrolled": false
   },
   "outputs": [
    {
     "name": "stdout",
     "output_type": "stream",
     "text": [
      "4\n",
      "5\n",
      "6\n"
     ]
    }
   ],
   "source": [
    "# for i in 튜플 : 배열처럼, 필요한 만큼 배열 속 값들 하나씩 꺼내며 반복\n",
    "for i in (4,5,6):\n",
    "    print(i)"
   ]
  },
  {
   "cell_type": "code",
   "execution_count": 29,
   "metadata": {
    "scrolled": true
   },
   "outputs": [],
   "source": [
    "#range(1, 10, 3) => range함수의 세번째 값 : step\n",
    "#[1, 4, 7]"
   ]
  },
  {
   "cell_type": "markdown",
   "metadata": {},
   "source": [
    "### (2) Cmd 환경에서 작동하는 함수를 작성하세요.(단, (2)번에서는 add_all.py ‒c 1 2 3 와 같은 형식으로 입력하면 6이 출력되게끔 작성하세요.)"
   ]
  },
  {
   "cell_type": "code",
   "execution_count": null,
   "metadata": {},
   "outputs": [],
   "source": [
    "import sys\n",
    "\n",
    "\n",
    "def add_all(user_input):\n",
    "    user_input_list = sys.argv\n",
    "    del user_input_list[:2]\n",
    "    return sum([int(i) for i in user_input_list])\n",
    "\n",
    "\n",
    "print(add_all(input()))"
   ]
  }
 ],
 "metadata": {
  "kernelspec": {
   "display_name": "Python 3",
   "language": "python",
   "name": "python3"
  },
  "language_info": {
   "codemirror_mode": {
    "name": "ipython",
    "version": 3
   },
   "file_extension": ".py",
   "mimetype": "text/x-python",
   "name": "python",
   "nbconvert_exporter": "python",
   "pygments_lexer": "ipython3",
   "version": "3.7.3"
  }
 },
 "nbformat": 4,
 "nbformat_minor": 2
}
