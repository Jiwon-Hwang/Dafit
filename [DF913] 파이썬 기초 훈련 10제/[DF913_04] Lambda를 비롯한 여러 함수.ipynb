{
 "cells": [
  {
   "cell_type": "markdown",
   "metadata": {},
   "source": [
    "# [DF913_04]"
   ]
  },
  {
   "cell_type": "markdown",
   "metadata": {},
   "source": [
    "## 4번. Lambda를 비롯한 여러 함수"
   ]
  },
  {
   "cell_type": "markdown",
   "metadata": {},
   "source": [
    "리스트에 다음과 같이 숫자가 저장되어 있다.  \n",
    "foo = [1,38,23,9,5,2]  \n",
    "이 리스트와 list, filter, lambda, map 네 가지 함수를 모두 이용해서,  \n",
    "20보다 큰 수만 남긴 후에 2를 곱해서 새로운 리스트에 저장해서 출력하는 코드를 작성하세요.  \n",
    "< example >  \n",
    "Output : bar = [76,46]  "
   ]
  },
  {
   "cell_type": "code",
   "execution_count": 1,
   "metadata": {
    "scrolled": false
   },
   "outputs": [
    {
     "name": "stdout",
     "output_type": "stream",
     "text": [
      "[76, 46]\n"
     ]
    }
   ],
   "source": [
    "foo = [1, 38, 23, 9, 5, 2]\n",
    "\n",
    "bar = list(map(lambda x:x*2, list(filter(lambda x: x>20, foo))))\n",
    "\n",
    "print(bar)"
   ]
  },
  {
   "cell_type": "markdown",
   "metadata": {},
   "source": [
    "### < list() >\n",
    "* 리스트 자료형으로 바꿔줌\n",
    "* cf. list : 벡터 연산X! (따라서 [1,2,3] * 2 = [1,2,3,1,2,3])\n",
    "\n",
    "### < filter(함수, 배열)) >\n",
    "* 배열 대신 반복 가능한 자료형이면 다 됨 => 반복가능한 자료형(**iterable**) : ex) **배열, 튜플, 문자열**\n",
    "* filter함수는 특정 조건(함수)으로 걸러서 걸러진 요소들로 iterator**객체 return**\n",
    "* **함수의 return값이 참인지 거짓(false : 0)인지**에 따라, **해당 요소를 포함할지**를 결정\n",
    "* 함수에 반복가능한 자료형의 요소들 하나씩 넣어서 참인것들만 걸러서 **값으로 반환**해줌\n",
    "    - def positive(x):   \n",
    "        return x > 0  \n",
    "      print(list(filter(positive, [1, -3, 2, 0, -5, 6]))) => [1,2,6]\n",
    "* filter함수도 map()처럼 **return 값이 filter 객체(object)!** 따라서 **list()**함수 써줘야 함.\n",
    "\n",
    "### < lambda >\n",
    "* 이름이 없는 함수. 익명함수.\n",
    "* 간단한 함수를 작성하는데쓰임\n",
    "* lambda 매개변수들: 식\n",
    "    - lambda x: x + 10\n",
    "* 람다함수 호출 : 변수에 람다함수의 return값 할당\n",
    "    - plus_ten = lambda x: x + 10\n",
    "    - lambdaAdd = lambda n,m:n+m  \n",
    "      print(lambdaAdd(2,3)) => 5 \n",
    "* 람다식 안에서 조건문도 사용 가능!\n",
    "    - print((lambda n,m: n if n%2==0 else m)(1,3)) => 3\n",
    "\n",
    "### < filter()와 lambda 같이 쓰기! >\n",
    "* list(filter(lambda x: x > 0, [1, -3, 2, 0, -5, 6])) => [1,2,6]\n",
    "* lambda로 간단하게 함수 정의 가능! (위의 positive함수를 간략하게 표현 가능)\n",
    "\n",
    "### < map(함수, iterable객체) >\n",
    "* map 함수 : 반복가능한 iterable객체를 받아서, **각 요소에 함수를 적용해주는 함수**\n",
    "* list( map(자료형(함수), 배열) )\n",
    "    * **map() 의 return 값은 map객체(object)**이므로, list()함수를 통해서 리스트형으로 전환해서 값 볼 수 있도록 해야함!\n",
    "    * 문자열 배열(iterable 객체)을 정수형 배열 등으로 바꿔줌 => **map() : 배열의 각 요소에 int()같은 함수를 각각 적용해줌!**"
   ]
  },
  {
   "cell_type": "markdown",
   "metadata": {},
   "source": [
    "### < list 와 ndarray 차이>\n",
    "### 1. list형 \n",
    "    - 기본 배열\n",
    "    - [1,2,3] * 2 => 결과 : [1,2,3,1,2,3]\n",
    "    - [1,2] + [3,4] => 결과 : [1,2,3,4]\n",
    "    - list에 덧셈, 곱셈 연산 하게 되면, \"연결(extend)\"의 의미!\n",
    "    - 따라서 (벡터)연산 하려면 numpy import해서 ndarray형 써야함!\n",
    "### 2. ndarray형\n",
    "    - 벡터 연산 가능한 자료형(요소 간 덧셈, 곱셈 등)\n",
    "    - import numpy as np 한 후, numpy의 함수인 array함수로 list -> ndarray형으로 변환\n",
    "    - print(np.array([1,2,3]) * 2) => 결과 : [2,4,6]\n",
    "    - np.array(1,2,3) * 2 => 결과 : array([2,4,6])"
   ]
  },
  {
   "cell_type": "code",
   "execution_count": 2,
   "metadata": {},
   "outputs": [
    {
     "name": "stdout",
     "output_type": "stream",
     "text": [
      "[2, 1]\n"
     ]
    }
   ],
   "source": [
    "# filter 함수 ex (객체로 return)\n",
    "\n",
    "def positive(x):\n",
    "    return x>0\n",
    "\n",
    "print(list(filter(positive, [-1,2,-3,1])))"
   ]
  },
  {
   "cell_type": "code",
   "execution_count": 3,
   "metadata": {},
   "outputs": [
    {
     "name": "stdout",
     "output_type": "stream",
     "text": [
      "[2, 4, 6]\n",
      "[2, 4, 6]\n"
     ]
    }
   ],
   "source": [
    "# map함수 ex (객체로 return)\n",
    "# lambda함수 ex (식의 계산 값 return)\n",
    "\n",
    "def func(x):\n",
    "    return x * 2\n",
    "\n",
    "print(list(map(func, [1,2,3])))\n",
    "print(list(map(lambda x:x*2, [1,2,3])))"
   ]
  },
  {
   "cell_type": "markdown",
   "metadata": {},
   "source": [
    "### < 문자열.split('분리기준') >\n",
    "* split()함수 : 분리할 문자 기준으로 문자열을 쪼개준다.\n",
    "* space 몇개든 다 무시하고 배열에 담아줌(sting으로)\n",
    "    * '안녕하세요, 저는, 지원입니다'.split(',') => ['안녕하세요', ' 저는', ' 지원입니다']\n",
    "    * '지금은 글을 쓰고안녕있습니다.'.split('안녕') => ['지금은 글을 쓰고', 있습니다.']"
   ]
  }
 ],
 "metadata": {
  "kernelspec": {
   "display_name": "Python 3",
   "language": "python",
   "name": "python3"
  },
  "language_info": {
   "codemirror_mode": {
    "name": "ipython",
    "version": 3
   },
   "file_extension": ".py",
   "mimetype": "text/x-python",
   "name": "python",
   "nbconvert_exporter": "python",
   "pygments_lexer": "ipython3",
   "version": "3.7.3"
  }
 },
 "nbformat": 4,
 "nbformat_minor": 2
}
