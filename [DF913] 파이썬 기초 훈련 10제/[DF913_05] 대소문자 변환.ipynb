{
 "cells": [
  {
   "cell_type": "markdown",
   "metadata": {},
   "source": [
    "# [DF913_05]"
   ]
  },
  {
   "cell_type": "markdown",
   "metadata": {},
   "source": [
    "## 5. 대소문자 변환"
   ]
  },
  {
   "cell_type": "markdown",
   "metadata": {},
   "source": [
    "다음 조건을 만족하는 코드를 작성하세요.  \n",
    "Sen = “Hello my Name is a a banana.” 라는 변수가 존재한다.  \n",
    "(1) hELLO MY nAME IS A A BANANA.을 출력한다.  \n",
    "(2) Hello My Name Is A A Banana.을 출력한다.  \n",
    "(3) Hello My Name Is a a Banana.을 출력한다.  "
   ]
  },
  {
   "cell_type": "markdown",
   "metadata": {},
   "source": [
    ">갖고 있는 문자 데이터를 변형하고자 하는대로 변형할 수 있다."
   ]
  },
  {
   "cell_type": "code",
   "execution_count": 3,
   "metadata": {},
   "outputs": [
    {
     "name": "stdout",
     "output_type": "stream",
     "text": [
      "hELLO MY nAME IS A A BANANA.\n",
      "Hello My Name Is A A Banana.\n",
      "Hello My Name Is a a Banana.\n",
      "Hello My Name Is a a Banana.\n"
     ]
    }
   ],
   "source": [
    "Sen = \"Hello my Name is a a banana.\"\n",
    "\n",
    "# (1) hELLO MY nAME IS A A BANANA.을 출력한다. => 대문자는 소문자로, 소문자는 대문자로\n",
    "print(Sen.swapcase())\n",
    "\n",
    "# (2) Hello My Name Is A A Banana.을 출력한다. => 각 단어의 첫 문자를 무조건 대문자로\n",
    "print(Sen.title())\n",
    "\n",
    "# (3) Hello My Name Is a a Banana.을 출력한다. => 각 단어의 첫문자를 대문자로 하는데, 단어가 한 글자일 때는 소문자로\n",
    "Sen_titled = Sen.title()\n",
    "print(Sen_titled.replace('A ', 'a ')) # sol1. 새로운 변수에 저장\n",
    "print(Sen.title().replace('A', 'a'))  # sol2. title()함수 쓰고 연속으로 replace()함수!! \n",
    "                                      # title.replace()가 아니라, title().replace()!!!"
   ]
  },
  {
   "cell_type": "markdown",
   "metadata": {},
   "source": [
    "### < 문자열 함수들 정리 >\n",
    "### 1. 대, 소문자 변환\n",
    "* s.upper() : 대문자로 변환\n",
    "* s.lower() : 소문자로 변환\n",
    "* s.swapcase() : 대문자는 소문자로, 소문자는 대문자로\n",
    "* s.capitalize() : 첫문자를 대문자로\n",
    "* s.title() : 단어의 첫 문자를 대문자로 (space 다음)\n",
    "\n",
    "### 2. 치환\n",
    "* s.replace('지원', '바보 지원', count) : '지원'을 '바보 지원'으로 바꿈. 단, count 횟수 만큼만!\n",
    "\n",
    "### 3. 분리, 결합\n",
    "* s.split() : 공백 기준으로 분리\n",
    "    * cf. split() 함수는, space 몇개든 다 무시하고 배열에 각각 담아줌 (sting으로)\n",
    "* s.split('and') : 'and' 기준으로 분리\n",
    "    * '안녕하세요, 저는, 지원입니다'.split(',') => ['안녕하세요', ' 저는', ' 지원입니다']\n",
    "    * '지금은 글을 쓰고안녕있습니다.'.split('안녕') => ['지금은 글을 쓰고', 있습니다.']\n",
    "* '+'.join(s) : '+' 문자로 결합  \n",
    "\n",
    "  \n",
    "### cf. 검색, 공백제거, 정렬, 구성요소판별, 문자채우기 등도 가능!"
   ]
  }
 ],
 "metadata": {
  "kernelspec": {
   "display_name": "Python 3",
   "language": "python",
   "name": "python3"
  },
  "language_info": {
   "codemirror_mode": {
    "name": "ipython",
    "version": 3
   },
   "file_extension": ".py",
   "mimetype": "text/x-python",
   "name": "python",
   "nbconvert_exporter": "python",
   "pygments_lexer": "ipython3",
   "version": "3.7.3"
  }
 },
 "nbformat": 4,
 "nbformat_minor": 2
}
