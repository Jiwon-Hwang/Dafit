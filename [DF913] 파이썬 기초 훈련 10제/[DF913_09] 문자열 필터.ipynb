{
 "cells": [
  {
   "cell_type": "markdown",
   "metadata": {},
   "source": [
    "# [DF913_09]"
   ]
  },
  {
   "cell_type": "markdown",
   "metadata": {},
   "source": [
    "## 9. 문자열 필터"
   ]
  },
  {
   "cell_type": "markdown",
   "metadata": {},
   "source": [
    "다음과 같은 문자열을 입력으로 받아서 1회 또는 6회 반복된 숫자만 모은 후 정렬해서 출력\n",
    "하는 코드를 작성하세요.  \n",
    "(단, 모든 수는 한자리 숫자라고 가정한다.)  \n",
    "input : \"11111133557788892\"  \n",
    "output : 1 2 9  "
   ]
  },
  {
   "cell_type": "markdown",
   "metadata": {},
   "source": [
    ">이미 존재하는 규칙에 맞는 코드를 작성할 수 있다."
   ]
  },
  {
   "cell_type": "code",
   "execution_count": 31,
   "metadata": {
    "scrolled": true
   },
   "outputs": [
    {
     "name": "stdout",
     "output_type": "stream",
     "text": [
      "11111133557788892\n",
      "1 2 9 "
     ]
    }
   ],
   "source": [
    "s = input()\n",
    "s_items = list(set(s)) # ['5', '8', '9', '3', '2', '1', '7']\n",
    "result = []\n",
    "for i in s_items:\n",
    "    if(s.count(i) == 1 or s.count(i) == 6):\n",
    "        result.append(i)\n",
    "#result =result.sort() => None 출력! (***.sort()함수는 값을 반환하지 않는다. 그냥 result 객체 자체를 정렬시킬뿐!***)\n",
    "result.sort()\n",
    "\n",
    "for i in result:\n",
    "    print(i, end=' ')"
   ]
  },
  {
   "cell_type": "markdown",
   "metadata": {},
   "source": [
    "<hr>"
   ]
  },
  {
   "cell_type": "code",
   "execution_count": 32,
   "metadata": {},
   "outputs": [
    {
     "name": "stdout",
     "output_type": "stream",
     "text": [
      "11111133557788892\n",
      "{'5', '8', '9', '3', '2', '1', '7'}\n",
      "['1', '1', '1', '1', '1', '1', '3', '3', '5', '5', '7', '7', '8', '8', '8', '9', '2']\n",
      "['5', '8', '9', '3', '2', '1', '7']\n",
      "{'5', '8', '9', '3', '2', '1', '7'}\n",
      "6\n"
     ]
    }
   ],
   "source": [
    "s = input()\n",
    "print(set(s)) # set() : 중복되는게 몇개든간에, 종류별로 하나씩 { } 주머니 안에 담아줌\n",
    "print(list(s)) # list() : '문자열'을 한 문자씩 list에 담아줌\n",
    "print(list(set(s))) # set()으로 중복 제거 후, list()로 리스트에 담아줌\n",
    "print(str(set(s))) # set()으로 중복 제거 후, set의 원소들을 각각 string으로 바꿔줌 ***string으로 이어서 출력해주는 거 x! join() 해줘야 함)\n",
    "print(s.count('1')) # count() : 문자열 메소드. 문자열에서 특정 문자의 개수를 세어줌"
   ]
  },
  {
   "cell_type": "code",
   "execution_count": 21,
   "metadata": {
    "scrolled": true
   },
   "outputs": [
    {
     "ename": "AttributeError",
     "evalue": "'str' object has no attribute 'sort'",
     "output_type": "error",
     "traceback": [
      "\u001b[1;31m---------------------------------------------------------------------------\u001b[0m",
      "\u001b[1;31mAttributeError\u001b[0m                            Traceback (most recent call last)",
      "\u001b[1;32m<ipython-input-21-3073a9a12339>\u001b[0m in \u001b[0;36m<module>\u001b[1;34m\u001b[0m\n\u001b[1;32m----> 1\u001b[1;33m \u001b[0mprint\u001b[0m\u001b[1;33m(\u001b[0m\u001b[1;34m'362'\u001b[0m\u001b[1;33m.\u001b[0m\u001b[0msort\u001b[0m\u001b[1;33m(\u001b[0m\u001b[1;33m)\u001b[0m\u001b[1;33m)\u001b[0m \u001b[1;31m#\u001b[0m\u001b[1;33m\u001b[0m\u001b[1;33m\u001b[0m\u001b[0m\n\u001b[0m",
      "\u001b[1;31mAttributeError\u001b[0m: 'str' object has no attribute 'sort'"
     ]
    }
   ],
   "source": [
    "print('362'.sort()) # 문자열은 sort(), sorted() 메소드가 없다! ==> ***리스트 메소드***"
   ]
  }
 ],
 "metadata": {
  "kernelspec": {
   "display_name": "Python 3",
   "language": "python",
   "name": "python3"
  },
  "language_info": {
   "codemirror_mode": {
    "name": "ipython",
    "version": 3
   },
   "file_extension": ".py",
   "mimetype": "text/x-python",
   "name": "python",
   "nbconvert_exporter": "python",
   "pygments_lexer": "ipython3",
   "version": "3.7.3"
  }
 },
 "nbformat": 4,
 "nbformat_minor": 2
}
