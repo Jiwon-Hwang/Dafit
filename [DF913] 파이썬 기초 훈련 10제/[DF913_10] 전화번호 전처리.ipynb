{
 "cells": [
  {
   "cell_type": "markdown",
   "metadata": {},
   "source": [
    "# [DF913_10]"
   ]
  },
  {
   "cell_type": "markdown",
   "metadata": {},
   "source": [
    "## 10. 전화번호 전처리"
   ]
  },
  {
   "cell_type": "markdown",
   "metadata": {},
   "source": [
    "다음과 같은 네 가지 경우의 수 중 하나의 형태로 전화번호가 입력된다고 하자.  \n",
    ">1) 010-1234-5678  \n",
    "2) 01012345678  \n",
    "3) 10-1234-5678  \n",
    "4) 1012345678  \n",
    "\n",
    "그 때 다음 조건을 만족하는 코드를 작성하세요.  \n",
    ">(1) 위의 4가지 형태에 부합하지 않을 경우 “ERROR!” 를 출력합니다.  \n",
    "(2) 4가지 형태에 부합하는 입력이라면 01012345678 꼴로 출력합니다.\n",
    "\n",
    "(최소 8가지 테스트 케이스를 통해 스스로 실험하며 확인해보세요.)"
   ]
  },
  {
   "cell_type": "markdown",
   "metadata": {},
   "source": [
    ">간단한 수준의 데이터 전처리를 위한 코드를 작성할 수 있다."
   ]
  },
  {
   "cell_type": "markdown",
   "metadata": {},
   "source": [
    "#### [ OK ]\n",
    "* 010-1234-5678        \n",
    "* 01012345678            \n",
    "* 10-1234-5678           \n",
    "* 1012345678    \n",
    "\n",
    "#### [ ERROR ]\n",
    "* 0101-1234-5678\n",
    "* 010112345678\n",
    "* 0-1234-5678\n",
    "* 012345678\n",
    "* 010-123-45678\n",
    "* 010-12345678\n",
    "* 010-12345-678\n",
    "<hr>\n",
    "* -(짝대기) 개수 0개 or 2개인지 체크 ==> 둘다 아니면 error\n",
    "* -(짝대기) 0개이면 ==> 길이가 10자리인지 11자리인지 체크 ==> 둘다 아니면 error / 맞으면 앞 2자리 or 3자리가 10 or 010 인지 체크 후 출력\n",
    "* -(짝대기) 2개이면 ==> 첫번째 - 나오기 전까지 10 or 010 인지 체크 ==> 아니면 error ==> 그 다음 각각 4자리씩인지 체크 ==> 마지막에 join"
   ]
  },
  {
   "cell_type": "code",
   "execution_count": 6,
   "metadata": {},
   "outputs": [
    {
     "name": "stdout",
     "output_type": "stream",
     "text": [
      "012345678\n",
      "ERROR!\n"
     ]
    }
   ],
   "source": [
    "def isPhoneNumber(pn):\n",
    "    if pn.isdigit(): # 짝대기 0개인지\n",
    "        if(len(pn) == 10 or len(pn) == 11):\n",
    "            if(pn[:2] == '10' or pn[:3] == '010'):\n",
    "                print(pn)\n",
    "                return True\n",
    "    elif pn.count('-') == 2: # 짝대기 2개인지\n",
    "        print()\n",
    "    return False # 둘 다 아니면 error\n",
    "\n",
    "\n",
    "pn = input() #string\n",
    "\n",
    "if not isPhoneNumber(pn):\n",
    "    print(\"ERROR!\")\n",
    "    "
   ]
  },
  {
   "cell_type": "markdown",
   "metadata": {},
   "source": [
    "<hr>"
   ]
  },
  {
   "cell_type": "markdown",
   "metadata": {},
   "source": [
    "### < set(), list(), str(), [리스트].count('') >\n",
    "**[set(집합) 자료형의 특징]**\n",
    "* 중복을 허용하지 않는다. (따라서 여러개 중복되어도, set()함수를 쓰면 종류별로 하나씩만 { } 안에 담아짐)\n",
    "* 순서가 없다(Unordered). (인덱스, 순서 x)"
   ]
  },
  {
   "cell_type": "code",
   "execution_count": 32,
   "metadata": {},
   "outputs": [
    {
     "name": "stdout",
     "output_type": "stream",
     "text": [
      "11111133557788892\n",
      "{'5', '8', '9', '3', '2', '1', '7'}\n",
      "['1', '1', '1', '1', '1', '1', '3', '3', '5', '5', '7', '7', '8', '8', '8', '9', '2']\n",
      "['5', '8', '9', '3', '2', '1', '7']\n",
      "{'5', '8', '9', '3', '2', '1', '7'}\n",
      "6\n"
     ]
    }
   ],
   "source": [
    "s = input()\n",
    "print(set(s)) # set() : 중복되는게 몇개든간에, 종류별로 하나씩 { } 주머니 안에 담아줌\n",
    "print(list(s)) # list() : '문자열'을 한 문자씩 list에 담아줌\n",
    "print(list(set(s))) # set()으로 중복 제거 후, list()로 리스트에 담아줌\n",
    "print(str(set(s))) # set()으로 중복 제거 후, set의 원소들을 각각 string으로 바꿔줌 ***string으로 이어서 출력해주는 거 x! join() 해줘야 함)\n",
    "print(s.count('1')) # count() : 문자열 메소드. 문자열에서 특정 문자의 개수를 세어줌"
   ]
  },
  {
   "cell_type": "markdown",
   "metadata": {},
   "source": [
    "### < [리스트].sort() & sorted(리스트) >"
   ]
  },
  {
   "cell_type": "code",
   "execution_count": 21,
   "metadata": {
    "scrolled": false
   },
   "outputs": [
    {
     "ename": "AttributeError",
     "evalue": "'str' object has no attribute 'sort'",
     "output_type": "error",
     "traceback": [
      "\u001b[1;31m---------------------------------------------------------------------------\u001b[0m",
      "\u001b[1;31mAttributeError\u001b[0m                            Traceback (most recent call last)",
      "\u001b[1;32m<ipython-input-21-3073a9a12339>\u001b[0m in \u001b[0;36m<module>\u001b[1;34m\u001b[0m\n\u001b[1;32m----> 1\u001b[1;33m \u001b[0mprint\u001b[0m\u001b[1;33m(\u001b[0m\u001b[1;34m'362'\u001b[0m\u001b[1;33m.\u001b[0m\u001b[0msort\u001b[0m\u001b[1;33m(\u001b[0m\u001b[1;33m)\u001b[0m\u001b[1;33m)\u001b[0m \u001b[1;31m#\u001b[0m\u001b[1;33m\u001b[0m\u001b[1;33m\u001b[0m\u001b[0m\n\u001b[0m",
      "\u001b[1;31mAttributeError\u001b[0m: 'str' object has no attribute 'sort'"
     ]
    }
   ],
   "source": [
    "print('362'.sort()) # 문자열은 sort(), sorted() 메소드가 없다! ==> ***리스트 메소드***"
   ]
  }
 ],
 "metadata": {
  "kernelspec": {
   "display_name": "Python 3",
   "language": "python",
   "name": "python3"
  },
  "language_info": {
   "codemirror_mode": {
    "name": "ipython",
    "version": 3
   },
   "file_extension": ".py",
   "mimetype": "text/x-python",
   "name": "python",
   "nbconvert_exporter": "python",
   "pygments_lexer": "ipython3",
   "version": "3.7.3"
  }
 },
 "nbformat": 4,
 "nbformat_minor": 2
}
